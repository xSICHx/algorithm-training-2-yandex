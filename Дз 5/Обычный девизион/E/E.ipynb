{
 "cells": [
  {
   "cell_type": "code",
   "execution_count": 87,
   "metadata": {},
   "outputs": [
    {
     "name": "stdout",
     "output_type": "stream",
     "text": [
      "36\n",
      "0 0 0\n"
     ]
    }
   ],
   "source": [
    "def twosum(a1: list, a2: list, s):\n",
    "    p1 = 0\n",
    "    p2 = len(a2)-1\n",
    "    res_list = []\n",
    "    while True:\n",
    "        p2_2 = p2\n",
    "        while p2_2 != -1 and a1[p1][1] + a2[p2][1] == s:\n",
    "            if a1[p1][1] + a2[p2_2][1] == s:\n",
    "                res_list.append([a1[p1][0], a2[p2_2][0]])\n",
    "            p2_2 -= 1\n",
    "\n",
    "        while a1[p1][1] + a2[p2][1] > s:\n",
    "            if p2 == -1:\n",
    "                break\n",
    "            p2 -= 1\n",
    "            \n",
    "        if a1[p1][1] + a2[p2][1] == s:\n",
    "            res_list.append([a1[p1][0], a2[p2][0]])\n",
    "        \n",
    "        p1 += 1\n",
    "        if p1 == len(a1):\n",
    "            break\n",
    "    return res_list\n",
    "\n",
    "\n",
    "\n",
    "\n",
    "def threesum():\n",
    "    with open(\"threesum.in\", \"r\") as f:\n",
    "        s = int(f.readline())\n",
    "        _a = map(int, f.readline().split())\n",
    "        _b = map(int, f.readline().split())\n",
    "        _c = map(int, f.readline().split())\n",
    "        a = sorted([(i-1, x) for i, x in enumerate(_a)][1:] , key = lambda x: x[1])\n",
    "        b = sorted([(i-1, x) for i, x in enumerate(_b)][1:] , key = lambda x: x[1])\n",
    "        c = sorted([(i-1, x) for i, x in enumerate(_c)][1:] , key = lambda x: x[1])\n",
    "        \n",
    "    \n",
    "    res_list = []\n",
    "    for i in range(len(c)):\n",
    "        s_twosum = s-c[i][1]\n",
    "        if s_twosum <= 0:\n",
    "            break\n",
    "\n",
    "        res_twosum = twosum(a, b, s_twosum)\n",
    "        for res in res_twosum:\n",
    "            res.append(c[i][0])\n",
    "            res_list.append(res)\n",
    "    \n",
    "    \n",
    "    # sort res\n",
    "    if len(res_list) == 0:\n",
    "        print(-1)\n",
    "        return\n",
    "    \n",
    "    res_list = sorted(res_list, key = lambda x: (x[0], x[1], x[2]))\n",
    "    print(len(res_list))\n",
    "    print(*res_list[0])\n",
    "\n",
    "    \n",
    "\n",
    "\n",
    "threesum()"
   ]
  },
  {
   "cell_type": "code",
   "execution_count": 79,
   "metadata": {},
   "outputs": [
    {
     "name": "stdout",
     "output_type": "stream",
     "text": [
      "0 1 2\n"
     ]
    }
   ],
   "source": [
    "def twosum(a1: list, a2: list, s):\n",
    "    p1 = 0\n",
    "    p2 = len(a2)-1\n",
    "    res_list = []\n",
    "    while True:\n",
    "        while a1[p1][1] + a2[p2][1] > s:\n",
    "            if p2 == -1:\n",
    "                break\n",
    "            p2 -= 1\n",
    "            \n",
    "        if a1[p1][1] + a2[p2][1] == s:\n",
    "            res_list.append([a1[p1][0], a2[p2][0]])\n",
    "        p1 += 1\n",
    "        if p1 == len(a1):\n",
    "            break\n",
    "    return res_list\n",
    "\n",
    "\n",
    "\n",
    "\n",
    "def threesum():\n",
    "    with open(\"threesum.in\", \"r\") as f:\n",
    "        s = int(f.readline())\n",
    "        _a = map(int, f.readline().split())\n",
    "        _b = map(int, f.readline().split())\n",
    "        _c = map(int, f.readline().split())\n",
    "        a = sorted([(i-1, x) for i, x in enumerate(_a)][1:] , key = lambda x: x[1])\n",
    "        b = sorted([(i-1, x) for i, x in enumerate(_b)][1:] , key = lambda x: x[1])\n",
    "        c = sorted([(i-1, x) for i, x in enumerate(_c)][1:] , key = lambda x: x[1])\n",
    "        \n",
    "    \n",
    "    res_list = []\n",
    "    for i in range(len(c)):\n",
    "        s_twosum = s-c[i][1]\n",
    "        if s_twosum <= 0:\n",
    "            break\n",
    "\n",
    "        res_twosum = twosum(a, b, s_twosum)\n",
    "        for res in res_twosum:\n",
    "            res.append(c[i][0])\n",
    "            res_list.append(res)\n",
    "    \n",
    "    \n",
    "    # sort res\n",
    "    if len(res_list) == 0:\n",
    "        print(-1)\n",
    "        return\n",
    "    \n",
    "    res_list = sorted(res_list, key = lambda x: (x[0], x[1], x[2]))\n",
    "    print(*res_list[0])\n",
    "\n",
    "    \n",
    "\n",
    "\n",
    "threesum()"
   ]
  },
  {
   "cell_type": "code",
   "execution_count": 11,
   "metadata": {},
   "outputs": [
    {
     "data": {
      "text/plain": [
       "0.37667083740234375"
      ]
     },
     "execution_count": 11,
     "metadata": {},
     "output_type": "execute_result"
    }
   ],
   "source": [
    "import sys\n",
    "import random\n",
    "\n",
    "a = [random.random() for i in range(15000*3)]\n",
    "\n",
    "sys.getsizeof(a)/(1024*1024)"
   ]
  },
  {
   "cell_type": "code",
   "execution_count": 104,
   "metadata": {},
   "outputs": [
    {
     "name": "stdout",
     "output_type": "stream",
     "text": [
      "0 0 0\n"
     ]
    }
   ],
   "source": [
    "def twosum(a1: list, a2: list, s):\n",
    "    p1 = 0\n",
    "    p2 = len(a2)-1\n",
    "    res_list = []\n",
    "    while p1 != len(a1):\n",
    "        while p2 != -1 and a1[p1][1] + a2[p2][1] > s:\n",
    "            p2 -= 1\n",
    "        \n",
    "        p2_equal = p2\n",
    "        while p2_equal != -1 and a1[p1][1] + a2[p2_equal][1] == s:\n",
    "            res_list.append([a1[p1][0], a2[p2_equal][0]])\n",
    "            p2_equal -= 1\n",
    "        \n",
    "        p1 += 1\n",
    "    return res_list\n",
    "\n",
    "\n",
    "\n",
    "\n",
    "def threesum():\n",
    "    with open(\"threesum.in\", \"r\") as f:\n",
    "        s = int(f.readline())\n",
    "        _a = map(int, f.readline().split())\n",
    "        _b = map(int, f.readline().split())\n",
    "        _c = map(int, f.readline().split())\n",
    "        a = sorted([(i-1, x) for i, x in enumerate(_a)][1:] , key = lambda x: x[1])\n",
    "        b = sorted([(i-1, x) for i, x in enumerate(_b)][1:] , key = lambda x: x[1])\n",
    "        c = sorted([(i-1, x) for i, x in enumerate(_c)][1:] , key = lambda x: x[1])\n",
    "        \n",
    "    \n",
    "    res_list = []\n",
    "    for i in range(len(c)):\n",
    "        s_twosum = s-c[i][1]\n",
    "        if s_twosum <= 0:\n",
    "            break\n",
    "\n",
    "        res_twosum = twosum(a, b, s_twosum)\n",
    "        for res in res_twosum:\n",
    "            res.append(c[i][0])\n",
    "            res_list.append(res)\n",
    "    \n",
    "    \n",
    "    if len(res_list) == 0:\n",
    "        print(-1)\n",
    "        return\n",
    "    \n",
    "    res_list = sorted(res_list, key = lambda x: (x[0], x[1], x[2]))\n",
    "    # print(len(res_list))\n",
    "    print(*res_list[0])\n",
    "\n",
    "    \n",
    "\n",
    "\n",
    "threesum()"
   ]
  },
  {
   "cell_type": "code",
   "execution_count": 113,
   "metadata": {},
   "outputs": [
    {
     "name": "stdout",
     "output_type": "stream",
     "text": [
      "0 1 1\n"
     ]
    }
   ],
   "source": [
    "def twosum(a1: list, a2: list, s, third_index, res_arr):\n",
    "    p1 = 0\n",
    "    p2 = len(a2)-1\n",
    "    while p1 != len(a1):\n",
    "        while p2 != -1 and a1[p1][1] + a2[p2][1] > s:\n",
    "            p2 -= 1\n",
    "        \n",
    "        p2_equal = p2\n",
    "        while p2_equal != -1 and a1[p1][1] + a2[p2_equal][1] == s:\n",
    "            res_arr.append((a1[p1][0], a2[p2_equal][0], third_index))\n",
    "            p2_equal -= 1\n",
    "        \n",
    "        p1 += 1\n",
    "\n",
    "\n",
    "\n",
    "\n",
    "\n",
    "def threesum():\n",
    "    with open(\"threesum.in\", \"r\") as f:\n",
    "        s = int(f.readline())\n",
    "        _a = map(int, f.readline().split())\n",
    "        _b = map(int, f.readline().split())\n",
    "        _c = map(int, f.readline().split())\n",
    "        a = sorted([(i-1, x) for i, x in enumerate(_a)][1:] , key = lambda x: x[1])\n",
    "        b = sorted([(i-1, x) for i, x in enumerate(_b)][1:] , key = lambda x: x[1])\n",
    "        c = sorted([(i-1, x) for i, x in enumerate(_c)][1:] , key = lambda x: x[1])\n",
    "        \n",
    "    \n",
    "    res_list = []\n",
    "    for i in range(len(c)):\n",
    "        s_twosum = s-c[i][1]\n",
    "        if s_twosum <= 0:\n",
    "            break\n",
    "\n",
    "        twosum(a, b, s_twosum, c[i][0], res_list)\n",
    "        \n",
    "    \n",
    "    \n",
    "    if len(res_list) == 0:\n",
    "        print(-1)\n",
    "        return\n",
    "    \n",
    "    res = min(res_list)\n",
    "    # print(len(res_list))\n",
    "    print(*res)\n",
    "\n",
    "    \n",
    "\n",
    "\n",
    "threesum()"
   ]
  },
  {
   "cell_type": "code",
   "execution_count": 1,
   "metadata": {},
   "outputs": [
    {
     "name": "stdout",
     "output_type": "stream",
     "text": [
      "CPython\n"
     ]
    }
   ],
   "source": [
    "import platform\n",
    "print(platform.python_implementation())"
   ]
  },
  {
   "cell_type": "code",
   "execution_count": 6,
   "metadata": {},
   "outputs": [
    {
     "name": "stdout",
     "output_type": "stream",
     "text": [
      "0 0 0\n"
     ]
    },
    {
     "ename": "",
     "evalue": "",
     "output_type": "error",
     "traceback": [
      "\u001b[1;31mThe Kernel crashed while executing code in the current cell or a previous cell. \n",
      "\u001b[1;31mPlease review the code in the cell(s) to identify a possible cause of the failure. \n",
      "\u001b[1;31mClick <a href='https://aka.ms/vscodeJupyterKernelCrash'>here</a> for more info. \n",
      "\u001b[1;31mView Jupyter <a href='command:jupyter.viewOutput'>log</a> for further details."
     ]
    }
   ],
   "source": [
    "def twosum(a1: list, a2: list, s, third_index, res):\n",
    "    p1 = 0\n",
    "    p2 = len(a2)-1\n",
    "    temp_res = res\n",
    "    while p1 != len(a1):\n",
    "        while p2 != -1 and a1[p1][1] + a2[p2][1] > s:\n",
    "            p2 -= 1\n",
    "        \n",
    "        p2_equal = p2\n",
    "        while p2_equal != -1 and a1[p1][1] + a2[p2_equal][1] == s:\n",
    "            temp_res = min(temp_res, (a1[p1][0], a2[p2_equal][0], third_index))\n",
    "            # res_arr.append((a1[p1][0], a2[p2_equal][0], third_index))\n",
    "            p2_equal -= 1\n",
    "        \n",
    "        p1 += 1\n",
    "    \n",
    "    return temp_res\n",
    "\n",
    "\n",
    "\n",
    "\n",
    "\n",
    "def threesum():\n",
    "    with open(\"threesum.in\", \"r\") as f:\n",
    "        s = int(f.readline())\n",
    "        _a = map(int, f.readline().split())\n",
    "        _b = map(int, f.readline().split())\n",
    "        _c = map(int, f.readline().split())\n",
    "        a = sorted([(i-1, x) for i, x in enumerate(_a)][1:] , key = lambda x: x[1])\n",
    "        b = sorted([(i-1, x) for i, x in enumerate(_b)][1:] , key = lambda x: x[1])\n",
    "        c = sorted([(i-1, x) for i, x in enumerate(_c)][1:] , key = lambda x: x[1])\n",
    "        \n",
    "    res = (len(a)+1, len(b)+1, len(c)+1)\n",
    "    # res_list = []\n",
    "    for i in range(len(c)):\n",
    "        s_twosum = s-c[i][1]\n",
    "        if s_twosum <= 0:\n",
    "            break\n",
    "\n",
    "        res = min(res, twosum(a, b, s_twosum, c[i][0], res))\n",
    "        \n",
    "    \n",
    "    \n",
    "    if res == (len(a)+1, len(b)+1, len(c)+1):\n",
    "        print(-1)\n",
    "        return\n",
    "    \n",
    "    # print(len(res_list))\n",
    "    print(*res)\n",
    "\n",
    "    \n",
    "\n",
    "\n",
    "threesum()"
   ]
  },
  {
   "cell_type": "code",
   "execution_count": 3,
   "metadata": {},
   "outputs": [
    {
     "data": {
      "text/plain": [
       "True"
      ]
     },
     "execution_count": 3,
     "metadata": {},
     "output_type": "execute_result"
    }
   ],
   "source": [
    "(1, 2, 3) < (2, 3, 4)"
   ]
  }
 ],
 "metadata": {
  "kernelspec": {
   "display_name": ".venv",
   "language": "python",
   "name": "python3"
  },
  "language_info": {
   "codemirror_mode": {
    "name": "ipython",
    "version": 3
   },
   "file_extension": ".py",
   "mimetype": "text/x-python",
   "name": "python",
   "nbconvert_exporter": "python",
   "pygments_lexer": "ipython3",
   "version": "3.10.11"
  }
 },
 "nbformat": 4,
 "nbformat_minor": 2
}
