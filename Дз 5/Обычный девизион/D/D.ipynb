{
 "cells": [
  {
   "cell_type": "code",
   "execution_count": 23,
   "metadata": {},
   "outputs": [
    {
     "name": "stdout",
     "output_type": "stream",
     "text": [
      "NO\n"
     ]
    }
   ],
   "source": [
    "def check_brackets():\n",
    "    with open(\"input.txt\", \"r\") as f:\n",
    "        s = f.readline().strip()\n",
    "\n",
    "    left_br = s.find(\"(\")\n",
    "    right_br = s.find(\")\")\n",
    "    if left_br == -1 or right_br == -1:\n",
    "        return \"NO\"\n",
    "    if left_br > right_br:\n",
    "        return \"NO\"\n",
    "\n",
    "    while not(left_br == -1 or right_br == -1):\n",
    "        left_br = s.find(\"(\", left_br+1)\n",
    "        right_br = s.find(\")\", right_br+1)\n",
    "        if (left_br == -1 and right_br != -1) or (left_br != -1 and right_br == -1):\n",
    "            return \"NO\"\n",
    "        if left_br > right_br:\n",
    "            return \"NO\"\n",
    "    return \"YES\"\n",
    "        \n",
    "\n",
    "\n",
    "print(check_brackets())"
   ]
  }
 ],
 "metadata": {
  "kernelspec": {
   "display_name": "base",
   "language": "python",
   "name": "python3"
  },
  "language_info": {
   "codemirror_mode": {
    "name": "ipython",
    "version": 3
   },
   "file_extension": ".py",
   "mimetype": "text/x-python",
   "name": "python",
   "nbconvert_exporter": "python",
   "pygments_lexer": "ipython3",
   "version": "3.11.5"
  }
 },
 "nbformat": 4,
 "nbformat_minor": 2
}
