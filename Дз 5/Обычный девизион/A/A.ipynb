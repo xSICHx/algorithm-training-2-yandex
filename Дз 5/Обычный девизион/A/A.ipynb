{
 "cells": [
  {
   "cell_type": "code",
   "execution_count": 18,
   "metadata": {},
   "outputs": [
    {
     "name": "stdout",
     "output_type": "stream",
     "text": [
      "1\n",
      "3\n",
      "6\n",
      "10\n",
      "2\n",
      "5\n",
      "9\n",
      "3\n",
      "7\n",
      "4\n"
     ]
    }
   ],
   "source": [
    "def get_cum_sum(nums: list):\n",
    "    cum_sum = [0]*(len(nums)+1)\n",
    "    for i in range(1, len(cum_sum)):\n",
    "        cum_sum[i] += cum_sum[i-1] + nums[i-1]\n",
    "    return cum_sum\n",
    "\n",
    "\n",
    "\n",
    "def start_inquiries():\n",
    "    f = open(\"input.txt\", \"r\")\n",
    "    n, q = map(int, f.readline().split())\n",
    "    nums = list( map(int, f.readline().split()) )\n",
    "    cum_sum = get_cum_sum(nums)\n",
    "    for i in range(q):\n",
    "        l_val, r_val = map(int, f.readline().split())\n",
    "        print(cum_sum[r_val] - cum_sum[l_val-1])\n",
    "\n",
    "    f.close()\n",
    "\n",
    "\n",
    "start_inquiries()\n"
   ]
  }
 ],
 "metadata": {
  "kernelspec": {
   "display_name": "base",
   "language": "python",
   "name": "python3"
  },
  "language_info": {
   "codemirror_mode": {
    "name": "ipython",
    "version": 3
   },
   "file_extension": ".py",
   "mimetype": "text/x-python",
   "name": "python",
   "nbconvert_exporter": "python",
   "pygments_lexer": "ipython3",
   "version": "3.11.5"
  }
 },
 "nbformat": 4,
 "nbformat_minor": 2
}
