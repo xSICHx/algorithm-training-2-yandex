{
 "cells": [
  {
   "cell_type": "code",
   "execution_count": 4,
   "metadata": {},
   "outputs": [
    {
     "name": "stdout",
     "output_type": "stream",
     "text": [
      "[0, 5, 9, -1, 3]\n"
     ]
    }
   ],
   "source": [
    "def get_cum_sum(nums: list):\n",
    "    cum_sum = [0]*(len(nums)+1)\n",
    "    for i in range(1, len(cum_sum)):\n",
    "        cum_sum[i] += cum_sum[i-1] + nums[i-1]\n",
    "    return cum_sum\n",
    "\n",
    "\n",
    "def find_max_segment():\n",
    "    f = open(\"input.txt\", \"r\")\n",
    "\n",
    "    n = int(f.readline())\n",
    "    nums = list( map(int, f.readline().split()) )\n",
    "    cum_sum = get_cum_sum(nums)\n",
    "    mx = cum_sum[1] - cum_sum[0]\n",
    "    for i in range(len(cum_sum) - 1):\n",
    "        for j in range(i + 1, len(cum_sum)):\n",
    "            mx = max(cum_sum[j] - cum_sum[i], mx)\n",
    "    \n",
    "    print(cum_sum)\n",
    "    f.close()\n",
    "\n",
    "\n",
    "find_max_segment()"
   ]
  },
  {
   "cell_type": "code",
   "execution_count": 5,
   "metadata": {},
   "outputs": [
    {
     "name": "stdout",
     "output_type": "stream",
     "text": [
      "9\n"
     ]
    }
   ],
   "source": [
    "def get_cum_sum(nums: list):\n",
    "    cum_sum = [0]*(len(nums)+1)\n",
    "    for i in range(1, len(cum_sum)):\n",
    "        cum_sum[i] += cum_sum[i-1] + nums[i-1]\n",
    "    return cum_sum\n",
    "\n",
    "\n",
    "def find_max_segment():\n",
    "    f = open(\"input.txt\", \"r\")\n",
    "\n",
    "    n = int(f.readline())\n",
    "    nums = list( map(int, f.readline().split()) )\n",
    "\n",
    "    cum_sum = get_cum_sum(nums)\n",
    "    mx = cum_sum[1] - cum_sum[0]\n",
    "    left, right = 0, 1\n",
    "    left_min = cum_sum[0]\n",
    "\n",
    "    while right != len(cum_sum):\n",
    "        left_min = min(left_min, cum_sum[left])\n",
    "        mx = max(mx, cum_sum[right] - left_min)\n",
    "        left += 1\n",
    "        right += 1\n",
    "    \n",
    "    print(mx)\n",
    "    f.close()\n",
    "\n",
    "\n",
    "find_max_segment()"
   ]
  }
 ],
 "metadata": {
  "kernelspec": {
   "display_name": "base",
   "language": "python",
   "name": "python3"
  },
  "language_info": {
   "codemirror_mode": {
    "name": "ipython",
    "version": 3
   },
   "file_extension": ".py",
   "mimetype": "text/x-python",
   "name": "python",
   "nbconvert_exporter": "python",
   "pygments_lexer": "ipython3",
   "version": "3.11.5"
  }
 },
 "nbformat": 4,
 "nbformat_minor": 2
}
