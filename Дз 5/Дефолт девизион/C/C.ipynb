{
 "cells": [
  {
   "cell_type": "code",
   "execution_count": 19,
   "metadata": {},
   "outputs": [
    {
     "name": "stdout",
     "output_type": "stream",
     "text": [
      "1\n",
      "1 0\n"
     ]
    }
   ],
   "source": [
    "def cluster():\n",
    "    with open(\"input.txt\", \"r\") as f:\n",
    "        n, m = map(int, f.readline().split())\n",
    "        _X = map(int, f.readline().split()) \n",
    "        _Y = map(int, f.readline().split())\n",
    "    X = sorted([(i, x) for i, x in enumerate(_X)], key = lambda x: x[1])\n",
    "    Y = sorted([(i, y) for i, y in enumerate(_Y)], key = lambda y: y[1])\n",
    "    \n",
    "    curr_class_ind = 0\n",
    "    curr_group_ind = 0\n",
    "    p = 0\n",
    "    X_distr = [0]*n\n",
    "    while not (curr_group_ind == n or curr_class_ind == m):\n",
    "        curr_group = X[curr_group_ind]\n",
    "        curr_class = Y[curr_class_ind]\n",
    "        if curr_group[1] < curr_class[1]:\n",
    "            X_distr[curr_group[0]] = curr_class[0] + 1\n",
    "\n",
    "            curr_group_ind += 1\n",
    "            p += 1\n",
    "        curr_class_ind += 1\n",
    "    print(p)\n",
    "    print(*X_distr)\n",
    "    \n",
    "\n",
    "\n",
    "cluster()"
   ]
  }
 ],
 "metadata": {
  "kernelspec": {
   "display_name": "base",
   "language": "python",
   "name": "python3"
  },
  "language_info": {
   "codemirror_mode": {
    "name": "ipython",
    "version": 3
   },
   "file_extension": ".py",
   "mimetype": "text/x-python",
   "name": "python",
   "nbconvert_exporter": "python",
   "pygments_lexer": "ipython3",
   "version": "3.11.5"
  }
 },
 "nbformat": 4,
 "nbformat_minor": 2
}
