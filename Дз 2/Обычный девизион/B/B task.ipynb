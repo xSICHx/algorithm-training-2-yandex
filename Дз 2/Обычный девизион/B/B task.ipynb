{
 "cells": [
  {
   "cell_type": "code",
   "execution_count": 67,
   "metadata": {},
   "outputs": [
    {
     "name": "stdout",
     "output_type": "stream",
     "text": [
      "-1 9 3\n",
      "9 9 0\n",
      "9 17 7\n"
     ]
    },
    {
     "data": {
      "text/plain": [
       "7"
      ]
     },
     "execution_count": 67,
     "metadata": {},
     "output_type": "execute_result"
    }
   ],
   "source": [
    "with open(\"read.txt\", \"r\") as file:\n",
    "    lst = list(map(int, file.readline().split()))\n",
    "\n",
    "\n",
    "#  Заключаем дома между двумя магазинами и считаем расстояние (начало и конец это тоже магазины)\n",
    "# O(2N)\n",
    "def find_max_distance(lst):\n",
    "\n",
    "    # есть начало и есть конец. Такие ситуации нужно отдельно обработать \n",
    "    def check_min_in_segment(beg, end, lst):        \n",
    "        max_dist = 0\n",
    "\n",
    "        if beg == -1:\n",
    "            for i in range(beg+1, end):\n",
    "                if lst[i] == 1:\n",
    "                    max_dist = max(max_dist, end - i)\n",
    "        elif end == len(lst):\n",
    "            for i in range(beg+1, end):\n",
    "                if lst[i] == 1:\n",
    "                    max_dist = max(max_dist, i-beg)                      \n",
    "        else:\n",
    "            for i in range(beg+1, end):\n",
    "                if lst[i] == 1:\n",
    "                    max_dist = max(max_dist, min(i-beg, end - i))\n",
    "                    \n",
    "        # print(beg, end, max_dist)  \n",
    "        return max_dist\n",
    "\n",
    "\n",
    "    # находим первый магазин\n",
    "    l2 = -1\n",
    "    r2 = -1\n",
    "    i = 0\n",
    "    while lst[i] != 2:\n",
    "        i += 1\n",
    "    r2 = i\n",
    "\n",
    "    max_dist = check_min_in_segment(l2, r2, lst)\n",
    "    # запускаем цикл, в котором будем просматривать все промежутки от магазина до магазина и обновлять эти промежутки\n",
    "    while True:\n",
    "        if i == len(lst):\n",
    "            l2, r2 = r2, i\n",
    "            max_dist = max(check_min_in_segment(l2, r2, lst), max_dist)\n",
    "            break\n",
    "        elif lst[i] == 2:\n",
    "            l2, r2 = r2, i\n",
    "            max_dist = max(check_min_in_segment(l2, r2, lst), max_dist)\n",
    "        i += 1\n",
    "\n",
    "    # while i != len(lst):\n",
    "    #     print(l2, r2, len(lst))    \n",
    "    #     max_dist = max(check_min_in_segment(l2, r2, lst), max_dist)\n",
    "    #     while not (i >= len(lst)-1 or lst[i] == 2 ):\n",
    "    #         i += 1\n",
    "    #     l2 = r2 \n",
    "    #     r2 = i\n",
    "    #     i += 1\n",
    "    \n",
    "    \n",
    "    return max_dist\n",
    "\n",
    "\n",
    "    \n",
    "\n",
    "find_max_distance(lst)\n",
    "        "
   ]
  }
 ],
 "metadata": {
  "kernelspec": {
   "display_name": "base",
   "language": "python",
   "name": "python3"
  },
  "language_info": {
   "codemirror_mode": {
    "name": "ipython",
    "version": 3
   },
   "file_extension": ".py",
   "mimetype": "text/x-python",
   "name": "python",
   "nbconvert_exporter": "python",
   "pygments_lexer": "ipython3",
   "version": "3.11.5"
  }
 },
 "nbformat": 4,
 "nbformat_minor": 2
}
