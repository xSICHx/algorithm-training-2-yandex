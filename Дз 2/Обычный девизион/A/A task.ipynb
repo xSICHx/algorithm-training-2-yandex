{
 "cells": [
  {
   "cell_type": "code",
   "execution_count": null,
   "metadata": {},
   "outputs": [],
   "source": [
    "def count_max():\n",
    "    curr_num = int(input())\n",
    "    max_num = curr_num\n",
    "    max_counter = 0\n",
    "    while curr_num != 0:\n",
    "        if max_num == curr_num:\n",
    "            max_counter += 1\n",
    "        elif max_num < curr_num:\n",
    "            max_num = curr_num\n",
    "            max_counter = 1\n",
    "        curr_num = int(input())\n",
    "\n",
    "    return max_counter"
   ]
  },
  {
   "cell_type": "code",
   "execution_count": 2,
   "metadata": {},
   "outputs": [
    {
     "name": "stdout",
     "output_type": "stream",
     "text": [
      "2\n"
     ]
    }
   ],
   "source": [
    "def count_max():\n",
    "    with open(\"read.txt\", \"r\") as file:\n",
    "        curr_num = int(file.readline())\n",
    "        max_num = curr_num\n",
    "        max_counter = 0\n",
    "        while curr_num != 0:\n",
    "            if max_num == curr_num:\n",
    "                max_counter += 1\n",
    "            elif max_num < curr_num:\n",
    "                max_num = curr_num\n",
    "                max_counter = 1\n",
    "            curr_num = int(file.readline())\n",
    "\n",
    "    return max_counter\n",
    "\n",
    "print(count_max())"
   ]
  }
 ],
 "metadata": {
  "kernelspec": {
   "display_name": "base",
   "language": "python",
   "name": "python3"
  },
  "language_info": {
   "codemirror_mode": {
    "name": "ipython",
    "version": 3
   },
   "file_extension": ".py",
   "mimetype": "text/x-python",
   "name": "python",
   "nbconvert_exporter": "python",
   "pygments_lexer": "ipython3",
   "version": "3.11.5"
  }
 },
 "nbformat": 4,
 "nbformat_minor": 2
}
