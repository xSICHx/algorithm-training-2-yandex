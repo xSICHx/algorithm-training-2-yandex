{
 "cells": [
  {
   "cell_type": "code",
   "execution_count": 12,
   "metadata": {},
   "outputs": [],
   "source": [
    "def save_blocks(l, lst):\n",
    "    mid = l // 2\n",
    "\n",
    "    save_left = -1\n",
    "    save_right = -1\n",
    "\n",
    "    # нечётный случай\n",
    "    if l % 2 == 1:\n",
    "        for x in lst:\n",
    "            if x <= mid:\n",
    "                save_left = x\n",
    "            if x >= mid:\n",
    "                save_right = x\n",
    "                break\n",
    "    else:\n",
    "        for x in lst:\n",
    "            if x <= mid-1:\n",
    "                save_left = x\n",
    "            if x >= mid:\n",
    "                save_right = x\n",
    "                break\n",
    "        \n",
    "    if save_left == save_right:\n",
    "        return save_left\n",
    "    else:\n",
    "        return str(save_left) + \" \" + str(save_right)\n",
    "\n"
   ]
  },
  {
   "cell_type": "code",
   "execution_count": 15,
   "metadata": {},
   "outputs": [
    {
     "name": "stdout",
     "output_type": "stream",
     "text": [
      "6 8\n"
     ]
    }
   ],
   "source": [
    "with open(\"read.txt\", \"r\") as file:\n",
    "    l, k = map(int, file.readline().split())\n",
    "    lst = list(map(int, file.readline().split()))\n",
    "\n",
    "print(save_blocks(l, lst))"
   ]
  },
  {
   "cell_type": "code",
   "execution_count": null,
   "metadata": {},
   "outputs": [],
   "source": [
    "l, k = map(int, input().split())\n",
    "lst = list(map(int, input().split()))\n",
    "\n",
    "print(save_blocks(l, lst))"
   ]
  }
 ],
 "metadata": {
  "kernelspec": {
   "display_name": "base",
   "language": "python",
   "name": "python3"
  },
  "language_info": {
   "codemirror_mode": {
    "name": "ipython",
    "version": 3
   },
   "file_extension": ".py",
   "mimetype": "text/x-python",
   "name": "python",
   "nbconvert_exporter": "python",
   "pygments_lexer": "ipython3",
   "version": "3.11.5"
  }
 },
 "nbformat": 4,
 "nbformat_minor": 2
}
