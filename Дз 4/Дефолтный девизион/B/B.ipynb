{
 "cells": [
  {
   "cell_type": "code",
   "execution_count": 7,
   "metadata": {},
   "outputs": [
    {
     "name": "stdout",
     "output_type": "stream",
     "text": [
      "bur 1\n"
     ]
    }
   ],
   "source": [
    "def count_colors():\n",
    "    def print_sorted(clrs: dict):\n",
    "        clrs_sorted = sorted(clrs.keys())\n",
    "        for clr in clrs_sorted:\n",
    "            print(clr, clrs[clr])\n",
    "\n",
    "    file = open(\"input.txt\", \"r\")\n",
    "    clrs = dict()\n",
    "    inp = file.readline().strip()\n",
    "    while inp != \"\":\n",
    "        d, a = inp.split()\n",
    "        a = int(a)\n",
    "        clrs[d] = clrs.get(d, 0) + a\n",
    "        inp = file.readline().strip()\n",
    "\n",
    "    print_sorted(clrs)\n",
    "\n",
    "    file.close()\n",
    "\n",
    "\n",
    "count_colors()"
   ]
  },
  {
   "cell_type": "code",
   "execution_count": 4,
   "metadata": {},
   "outputs": [
    {
     "name": "stdout",
     "output_type": "stream",
     "text": [
      "McCain 15\n",
      "Obama 9\n"
     ]
    }
   ],
   "source": [
    "def count_colors():\n",
    "    def print_sorted(clrs: dict):\n",
    "        clrs_sorted = sorted(clrs.keys())\n",
    "        for clr in clrs_sorted:\n",
    "            print(clr, clrs[clr])\n",
    "\n",
    "\n",
    "    clrs = dict()\n",
    "    inp = input().strip()\n",
    "    while inp != \"\":\n",
    "        d, a = inp.split()\n",
    "        a = int(a)\n",
    "        clrs[d] = clrs.get(d, 0) + a\n",
    "        inp = input().strip()\n",
    "\n",
    "    print_sorted(clrs)\n",
    "\n",
    "\n",
    "count_colors()"
   ]
  }
 ],
 "metadata": {
  "kernelspec": {
   "display_name": "base",
   "language": "python",
   "name": "python3"
  },
  "language_info": {
   "codemirror_mode": {
    "name": "ipython",
    "version": 3
   },
   "file_extension": ".py",
   "mimetype": "text/x-python",
   "name": "python",
   "nbconvert_exporter": "python",
   "pygments_lexer": "ipython3",
   "version": "3.11.5"
  }
 },
 "nbformat": 4,
 "nbformat_minor": 2
}
