{
 "cells": [
  {
   "cell_type": "code",
   "execution_count": 26,
   "metadata": {},
   "outputs": [
    {
     "name": "stdout",
     "output_type": "stream",
     "text": [
      "Олимпиада по информатике\n"
     ]
    }
   ],
   "source": [
    "def print_top_topic():\n",
    "    def read_and_write_message():\n",
    "        mes_type = int(file.readline())\n",
    "        if mes_type == 0:\n",
    "            message_topic[i] = len(topics_names)\n",
    "            topics_names.append([file.readline().strip(), 1])\n",
    "            file.readline()\n",
    "        else:\n",
    "            message_topic[i] = message_topic[mes_type]\n",
    "            topics_names[message_topic[mes_type]][1] += 1\n",
    "            file.readline()\n",
    "            \n",
    "\n",
    "    with open(\"input.txt\", \"r\", encoding='windows-1251', errors='ignore') as file:\n",
    "        N = int(file.readline().strip())\n",
    "        message_topic = [0]*(N+1)\n",
    "        topics_names = list()\n",
    "        for i in range(1, N+1):\n",
    "            read_and_write_message()\n",
    "        \n",
    "\n",
    "    mx = 0\n",
    "    mx_str = \"\"\n",
    "    for topic in topics_names:\n",
    "        if topic[1] > mx:\n",
    "            mx = topic[1]\n",
    "            mx_str = topic[0]\n",
    "    \n",
    "    return mx_str\n",
    "\n",
    "\n",
    "print(print_top_topic())"
   ]
  },
  {
   "cell_type": "code",
   "execution_count": null,
   "metadata": {},
   "outputs": [],
   "source": []
  },
  {
   "cell_type": "code",
   "execution_count": null,
   "metadata": {},
   "outputs": [],
   "source": []
  }
 ],
 "metadata": {
  "kernelspec": {
   "display_name": "base",
   "language": "python",
   "name": "python3"
  },
  "language_info": {
   "codemirror_mode": {
    "name": "ipython",
    "version": 3
   },
   "file_extension": ".py",
   "mimetype": "text/x-python",
   "name": "python",
   "nbconvert_exporter": "python",
   "pygments_lexer": "ipython3",
   "version": "3.11.5"
  }
 },
 "nbformat": 4,
 "nbformat_minor": 2
}
