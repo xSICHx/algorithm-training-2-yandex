{
 "cells": [
  {
   "cell_type": "code",
   "execution_count": 9,
   "metadata": {},
   "outputs": [
    {
     "name": "stdout",
     "output_type": "stream",
     "text": [
      "damme\n",
      "is\n",
      "name\n",
      "van\n",
      "bond\n",
      "claude\n",
      "hi\n",
      "my\n",
      "james\n",
      "jean\n",
      "what\n",
      "your\n"
     ]
    }
   ],
   "source": [
    "def get_counts():\n",
    "    with open(\"input.txt\", \"r\") as f:\n",
    "        str = f.readline().strip()\n",
    "        words_counter = dict()\n",
    "        while str != \"\":\n",
    "            for word in str.split():\n",
    "                words_counter[word] = words_counter.get(word, 0) + 1\n",
    "            str = f.readline().strip()\n",
    "    \n",
    "    return words_counter\n",
    "\n",
    "\n",
    "def get_sorted_words(words_counter: dict):\n",
    "    freq_words = [(freq, word) for word, freq in words_counter.items()]\n",
    "    return sorted(freq_words, key = lambda x: (-x[0], x[1]))\n",
    "\n",
    "\n",
    "def print_words_by_freq():\n",
    "    sorted_words_freq = get_sorted_words(get_counts())\n",
    "    # print(sorted_words_freq)\n",
    "    for word_freq in sorted_words_freq:\n",
    "        print(word_freq[1])\n",
    "\n",
    "\n",
    "\n",
    "print_words_by_freq()\n",
    "\n"
   ]
  }
 ],
 "metadata": {
  "kernelspec": {
   "display_name": "base",
   "language": "python",
   "name": "python3"
  },
  "language_info": {
   "codemirror_mode": {
    "name": "ipython",
    "version": 3
   },
   "file_extension": ".py",
   "mimetype": "text/x-python",
   "name": "python",
   "nbconvert_exporter": "python",
   "pygments_lexer": "ipython3",
   "version": "3.11.5"
  }
 },
 "nbformat": 4,
 "nbformat_minor": 2
}
