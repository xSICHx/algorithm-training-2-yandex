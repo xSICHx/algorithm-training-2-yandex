{
 "cells": [
  {
   "cell_type": "code",
   "execution_count": 1,
   "metadata": {},
   "outputs": [
    {
     "data": {
      "text/plain": [
       "450"
      ]
     },
     "execution_count": 1,
     "metadata": {},
     "output_type": "execute_result"
    }
   ],
   "source": [
    "64 + 129 + 257"
   ]
  },
  {
   "cell_type": "code",
   "execution_count": 29,
   "metadata": {},
   "outputs": [
    {
     "data": {
      "text/plain": [
       "(64.0, 128.0, 257.0)"
      ]
     },
     "execution_count": 29,
     "metadata": {},
     "output_type": "execute_result"
    }
   ],
   "source": [
    "p1 = 100000\n",
    "p2 = 200000\n",
    "p3 = 400000\n",
    "izb_ch = (p1 + p2 + p3) / 450\n",
    "p1 // izb_ch, p2 // izb_ch, p3 // izb_ch"
   ]
  },
  {
   "cell_type": "code",
   "execution_count": 51,
   "metadata": {},
   "outputs": [
    {
     "name": "stdout",
     "output_type": "stream",
     "text": [
      "Party One 64\n",
      "Party Two 129\n",
      "Party Three 257\n"
     ]
    }
   ],
   "source": [
    "import re\n",
    "\n",
    "def calc_places():\n",
    "    def read_party(s: chr):\n",
    "        mtch = re.match(r\"(.+?)\\s(\\d+)$\", s)\n",
    "        name = mtch.group(1)\n",
    "        number = int(mtch.group(2))\n",
    "         \n",
    "        return (name, number)\n",
    "\n",
    "\n",
    "    with open(\"input.txt\", \"r\") as f:\n",
    "        str = f.readline().strip()\n",
    "        party_lst = []\n",
    "        sm = 0\n",
    "        while str != \"\":\n",
    "            party_data = read_party(str)\n",
    "            sm += party_data[1]\n",
    "            party_lst.append(party_data)\n",
    "\n",
    "            str = f.readline().strip()\n",
    "        \n",
    "        target_val = sm / 450\n",
    "        invited = []\n",
    "        for party in party_lst:\n",
    "            invited.append(int(party[1] // target_val))\n",
    "\n",
    "        # second round\n",
    "        sum_invited = sum(invited)\n",
    "        if sum_invited < 450:\n",
    "            residue_list = []\n",
    "            for i in range(len(party_lst)):\n",
    "                party = party_lst[i]\n",
    "                residue_list.append((party[1] / target_val % 1, party[1], i))\n",
    "            residue_list = sorted(residue_list, key=lambda x: (-x[0], -x[1]))\n",
    "\n",
    "            #adding\n",
    "            k = 0\n",
    "            n_residue = len(residue_list)\n",
    "            while sum_invited != 450:\n",
    "                index = residue_list[k % n_residue][2]\n",
    "                invited[index] += 1\n",
    "\n",
    "                k += 1\n",
    "                sum_invited += 1\n",
    "        \n",
    "        #printing\n",
    "        for i in range(len(party_lst)):\n",
    "            party = party_lst[i]\n",
    "            print(party[0], invited[i])\n",
    "\n",
    "\n",
    "\n",
    "        \n",
    "\n",
    "\n",
    "calc_places()"
   ]
  },
  {
   "cell_type": "code",
   "execution_count": 47,
   "metadata": {},
   "outputs": [
    {
     "name": "stdout",
     "output_type": "stream",
     "text": [
      "Дробная часть: 0.3333333333333335\n"
     ]
    },
    {
     "data": {
      "text/plain": [
       "0.3333333333333335"
      ]
     },
     "execution_count": 47,
     "metadata": {},
     "output_type": "execute_result"
    }
   ],
   "source": [
    "import math\n",
    "\n",
    "# Числа для деления\n",
    "a = 10\n",
    "b = 3\n",
    "\n",
    "# Делим a на b и получаем дробную часть\n",
    "fractional_part, _ = math.modf(a / b)\n",
    "\n",
    "print(f\"Дробная часть: {fractional_part}\")\n",
    "a/b % 1"
   ]
  }
 ],
 "metadata": {
  "kernelspec": {
   "display_name": "base",
   "language": "python",
   "name": "python3"
  },
  "language_info": {
   "codemirror_mode": {
    "name": "ipython",
    "version": 3
   },
   "file_extension": ".py",
   "mimetype": "text/x-python",
   "name": "python",
   "nbconvert_exporter": "python",
   "pygments_lexer": "ipython3",
   "version": "3.11.5"
  }
 },
 "nbformat": 4,
 "nbformat_minor": 2
}
