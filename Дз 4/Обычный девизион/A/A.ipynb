{
 "cells": [
  {
   "cell_type": "code",
   "execution_count": 5,
   "metadata": {},
   "outputs": [
    {
     "name": "stdout",
     "output_type": "stream",
     "text": [
      "1 15\n",
      "4 2\n",
      "10 -5\n"
     ]
    }
   ],
   "source": [
    "def count_colors():\n",
    "    def print_sorted(clrs: dict):\n",
    "        clrs_sorted = sorted(clrs.keys())\n",
    "        for clr in clrs_sorted:\n",
    "            print(clr, clrs[clr])\n",
    "\n",
    "    with open(\"read.txt\", \"r\") as file:\n",
    "        n = int(file.readline())\n",
    "        clrs = dict()\n",
    "        for i in range(n):\n",
    "            d, a = map(int, file.readline().split())\n",
    "            clrs[d] = clrs.get(d, 0) + a\n",
    "\n",
    "        print_sorted(clrs)\n",
    "\n",
    "\n",
    "count_colors()\n",
    "        \n",
    "\n",
    "    \n",
    "\n",
    "        "
   ]
  },
  {
   "cell_type": "code",
   "execution_count": null,
   "metadata": {},
   "outputs": [],
   "source": [
    "def count_colors():\n",
    "    def print_sorted(clrs: dict):\n",
    "        clrs_sorted = sorted(clrs.keys())\n",
    "        for clr in clrs_sorted:\n",
    "            print(clr, clrs[clr])\n",
    "\n",
    "\n",
    "    n = int(input())\n",
    "    clrs = dict()\n",
    "    for i in range(n):\n",
    "        d, a = map(int, input().split())\n",
    "        clrs[d] = clrs.get(d, 0) + a\n",
    "\n",
    "    print_sorted(clrs)\n",
    "\n",
    "\n",
    "count_colors()\n",
    "        \n",
    "\n",
    "    \n",
    "\n",
    "        "
   ]
  }
 ],
 "metadata": {
  "kernelspec": {
   "display_name": "base",
   "language": "python",
   "name": "python3"
  },
  "language_info": {
   "codemirror_mode": {
    "name": "ipython",
    "version": 3
   },
   "file_extension": ".py",
   "mimetype": "text/x-python",
   "name": "python",
   "nbconvert_exporter": "python",
   "pygments_lexer": "ipython3",
   "version": "3.11.5"
  }
 },
 "nbformat": 4,
 "nbformat_minor": 2
}
