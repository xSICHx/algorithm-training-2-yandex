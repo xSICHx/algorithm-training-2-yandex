{
 "cells": [
  {
   "cell_type": "code",
   "execution_count": 32,
   "metadata": {},
   "outputs": [
    {
     "name": "stdout",
     "output_type": "stream",
     "text": [
      "{1: 1, 2: 2, 3: 3}\n",
      "1\n"
     ]
    }
   ],
   "source": [
    "with open(\"read.txt\", \"r\") as file:\n",
    "    elems = list(map(int, file.readline().split()))\n",
    "    hashMap = {}\n",
    "    for elem in elems:\n",
    "        if elem in hashMap:\n",
    "            hashMap[elem] += 1\n",
    "        else:\n",
    "            hashMap[elem] = 1\n",
    "    \n",
    "    \n",
    "    printed = {}\n",
    "    print(hashMap)\n",
    "    for elem in elems:\n",
    "        if hashMap[elem] == 1:\n",
    "            if elem not in printed:\n",
    "                print(elem)\n",
    "                printed[elem] = 1\n"
   ]
  },
  {
   "cell_type": "code",
   "execution_count": null,
   "metadata": {},
   "outputs": [],
   "source": [
    "\n",
    "elems = list(map(int, input().split()))\n",
    "hashMap = {}\n",
    "for elem in elems:\n",
    "    if elem in hashMap:\n",
    "        hashMap[elem] += 1\n",
    "    else:\n",
    "        hashMap[elem] = 1\n",
    "\n",
    "\n",
    "printed = {}\n",
    "for elem in elems:\n",
    "    if hashMap[elem] == 1:\n",
    "        if elem not in printed:\n",
    "            print(elem, end=\" \")\n",
    "            printed[elem] = 1\n"
   ]
  }
 ],
 "metadata": {
  "kernelspec": {
   "display_name": "base",
   "language": "python",
   "name": "python3"
  },
  "language_info": {
   "codemirror_mode": {
    "name": "ipython",
    "version": 3
   },
   "file_extension": ".py",
   "mimetype": "text/x-python",
   "name": "python",
   "nbconvert_exporter": "python",
   "pygments_lexer": "ipython3",
   "version": "3.11.5"
  }
 },
 "nbformat": 4,
 "nbformat_minor": 2
}
