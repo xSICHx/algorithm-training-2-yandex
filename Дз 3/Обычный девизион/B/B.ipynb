{
 "cells": [
  {
   "cell_type": "code",
   "execution_count": 6,
   "metadata": {},
   "outputs": [
    {
     "name": "stdout",
     "output_type": "stream",
     "text": [
      "NO\n",
      "NO\n",
      "NO\n",
      "YES\n",
      "YES\n",
      "NO\n"
     ]
    }
   ],
   "source": [
    "with open(\"read.txt\", \"r\") as file:\n",
    "    elems = map(int, file.readline().split())\n",
    "    hashMap = {}\n",
    "    for elem in elems:\n",
    "        if hashMap.get(elem) is None:\n",
    "            print(\"NO\")\n",
    "            hashMap[elem] = 1\n",
    "        else:\n",
    "            print(\"YES\")"
   ]
  },
  {
   "cell_type": "code",
   "execution_count": null,
   "metadata": {},
   "outputs": [],
   "source": [
    "\n",
    "elems = map(int, input().split())\n",
    "hashMap = {}\n",
    "for elem in elems:\n",
    "    if hashMap.get(elem) is None:\n",
    "        print(\"NO\")\n",
    "        hashMap[elem] = 1\n",
    "    else:\n",
    "        print(\"YES\")"
   ]
  }
 ],
 "metadata": {
  "kernelspec": {
   "display_name": "base",
   "language": "python",
   "name": "python3"
  },
  "language_info": {
   "codemirror_mode": {
    "name": "ipython",
    "version": 3
   },
   "file_extension": ".py",
   "mimetype": "text/x-python",
   "name": "python",
   "nbconvert_exporter": "python",
   "pygments_lexer": "ipython3",
   "version": "3.11.5"
  }
 },
 "nbformat": 4,
 "nbformat_minor": 2
}
