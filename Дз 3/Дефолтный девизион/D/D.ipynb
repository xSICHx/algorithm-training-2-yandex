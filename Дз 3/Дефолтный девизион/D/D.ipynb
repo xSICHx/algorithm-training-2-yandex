{
 "cells": [
  {
   "cell_type": "code",
   "execution_count": 54,
   "metadata": {},
   "outputs": [],
   "source": [
    "def var1():\n",
    "    with open(\"read.txt\", \"r\") as file:\n",
    "        n = int(file.readline())\n",
    "        possibleVals = set()\n",
    "        while True:\n",
    "            question = file.readline()\n",
    "            if question == \"HELP\\n\":\n",
    "                break\n",
    "            question = set( map(int, question.split()) )\n",
    "\n",
    "            answer = file.readline()\n",
    "            if answer == \"YES\\n\":\n",
    "                if len(possibleVals) == 0:\n",
    "                    possibleVals = question\n",
    "                else:\n",
    "                    possibleVals = possibleVals.intersection(question)\n",
    "            else:\n",
    "                if len(possibleVals) == 0:\n",
    "                    possibleVals = set(range(1, n+1)).difference(question)\n",
    "                else:\n",
    "                    possibleVals = possibleVals.difference(question)\n",
    "        \n",
    "    if len(possibleVals) == 0:\n",
    "        print(*range(1, n+1))\n",
    "    else:\n",
    "        print(*sorted(possibleVals))\n",
    "            "
   ]
  },
  {
   "cell_type": "code",
   "execution_count": 82,
   "metadata": {},
   "outputs": [],
   "source": [
    "def var2():\n",
    "\n",
    "    with open(\"read.txt\", \"r\") as file:\n",
    "        n = int(file.readline())\n",
    "        possibleVals = {}\n",
    "        yes_flag = 0 \n",
    "        while True:\n",
    "            question = file.readline()\n",
    "            if question == \"HELP\\n\":\n",
    "                break\n",
    "            question = set(map(int, question.split()))\n",
    "\n",
    "            answer = file.readline()\n",
    "            if answer == \"YES\\n\":\n",
    "                for elem in question:\n",
    "                    elemInt = int(elem)\n",
    "                    if possibleVals.get(elemInt) == None and yes_flag == 0:\n",
    "                        possibleVals[elemInt] = 1\n",
    "                yes_flag = 1\n",
    "\n",
    "                for key in possibleVals.keys():\n",
    "                    if key not in question:\n",
    "                        possibleVals[key] = -1\n",
    "            else:\n",
    "                for elem in question:\n",
    "                    possibleVals[int(elem)] = -1\n",
    "        \n",
    "        vals = []\n",
    "        for key, val in possibleVals.items():\n",
    "            if val == 1:\n",
    "                vals.append(key)\n",
    "        \n",
    "        if len(vals) == 0:\n",
    "            for i in range(1, n+1):\n",
    "                if possibleVals.get(i) != -1:\n",
    "                    print(i, end=\" \")\n",
    "        else:\n",
    "            print(*sorted(vals))\n",
    "    "
   ]
  },
  {
   "cell_type": "code",
   "execution_count": 83,
   "metadata": {},
   "outputs": [
    {
     "name": "stdout",
     "output_type": "stream",
     "text": [
      "4\n",
      "4\n"
     ]
    }
   ],
   "source": [
    "var1()\n",
    "var2()"
   ]
  },
  {
   "cell_type": "code",
   "execution_count": 52,
   "metadata": {},
   "outputs": [
    {
     "ename": "ValueError",
     "evalue": "invalid literal for int() with base 10: ''",
     "output_type": "error",
     "traceback": [
      "\u001b[1;31m---------------------------------------------------------------------------\u001b[0m",
      "\u001b[1;31mValueError\u001b[0m                                Traceback (most recent call last)",
      "Cell \u001b[1;32mIn[52], line 1\u001b[0m\n\u001b[1;32m----> 1\u001b[0m n \u001b[38;5;241m=\u001b[39m \u001b[38;5;28mint\u001b[39m(\u001b[38;5;28minput\u001b[39m())\n\u001b[0;32m      2\u001b[0m possibleVals \u001b[38;5;241m=\u001b[39m {}\n\u001b[0;32m      3\u001b[0m \u001b[38;5;28;01mwhile\u001b[39;00m \u001b[38;5;28;01mTrue\u001b[39;00m:\n",
      "\u001b[1;31mValueError\u001b[0m: invalid literal for int() with base 10: ''"
     ]
    }
   ],
   "source": [
    "n = int(input())\n",
    "possibleVals = {}\n",
    "yes_flag = 0 \n",
    "while True:\n",
    "    question = input()\n",
    "    if question == \"HELP\":\n",
    "        break\n",
    "    question = set(map(int, question.split()))\n",
    "\n",
    "    answer = input()\n",
    "    if answer == \"YES\":\n",
    "        for elem in question:\n",
    "            elemInt = int(elem)\n",
    "            if possibleVals.get(elemInt) == None and yes_flag == 0:\n",
    "                possibleVals[elemInt] = 1\n",
    "        yes_flag = 1\n",
    "\n",
    "        for key in possibleVals.keys():\n",
    "            if key not in question:\n",
    "                possibleVals[key] = -1\n",
    "    else:\n",
    "        for elem in question:\n",
    "            possibleVals[int(elem)] = -1\n",
    "\n",
    "vals = []\n",
    "for key, val in possibleVals.items():\n",
    "    if val == 1:\n",
    "        vals.append(key)\n",
    "\n",
    "if len(vals) == 0:\n",
    "    for i in range(1, n+1):\n",
    "        if possibleVals.get(i) != -1:\n",
    "            print(i, end=\" \")\n",
    "else:\n",
    "    print(*sorted(vals))"
   ]
  }
 ],
 "metadata": {
  "kernelspec": {
   "display_name": "base",
   "language": "python",
   "name": "python3"
  },
  "language_info": {
   "codemirror_mode": {
    "name": "ipython",
    "version": 3
   },
   "file_extension": ".py",
   "mimetype": "text/x-python",
   "name": "python",
   "nbconvert_exporter": "python",
   "pygments_lexer": "ipython3",
   "version": "3.11.5"
  }
 },
 "nbformat": 4,
 "nbformat_minor": 2
}
