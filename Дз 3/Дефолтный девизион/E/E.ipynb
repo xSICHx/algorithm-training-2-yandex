{
 "cells": [
  {
   "cell_type": "code",
   "execution_count": 21,
   "metadata": {},
   "outputs": [
    {
     "name": "stdout",
     "output_type": "stream",
     "text": [
      "A143BC\n",
      "C143AB\n"
     ]
    }
   ],
   "source": [
    "def check_coherence(witness: set, car: str):\n",
    "    counter = 0\n",
    "    for x in witness:\n",
    "        if x in car:\n",
    "            counter += 1\n",
    "\n",
    "    if counter == len(witness):\n",
    "        return True\n",
    "    return False\n",
    "\n",
    "\n",
    "\n",
    "\n",
    "with open(\"read.txt\", \"r\") as file:\n",
    "    m = int(file.readline())\n",
    "    list_witnesses = []\n",
    "    for i in range(m):\n",
    "        number = set( file.readline().strip() )\n",
    "        list_witnesses.append( number )\n",
    "    \n",
    "\n",
    "    n = int(file.readline())\n",
    "    list_max = []\n",
    "    max_witnesses = 0\n",
    "    for i in range(n):\n",
    "        car_number = file.readline().strip()\n",
    "        counter = 0\n",
    "        for witness in list_witnesses:\n",
    "            if check_coherence(witness, car_number):\n",
    "                counter += 1\n",
    "\n",
    "        if counter > max_witnesses:\n",
    "            list_max = []\n",
    "            list_max.append(car_number)\n",
    "            max_witnesses = counter\n",
    "        elif counter == max_witnesses:\n",
    "            list_max.append(car_number)\n",
    "        # print(car_number)\n",
    "    \n",
    "\n",
    "    for car_number in list_max:\n",
    "        print(car_number)\n",
    "\n",
    "\n"
   ]
  },
  {
   "cell_type": "code",
   "execution_count": 8,
   "metadata": {},
   "outputs": [
    {
     "data": {
      "text/plain": [
       "True"
      ]
     },
     "execution_count": 8,
     "metadata": {},
     "output_type": "execute_result"
    }
   ],
   "source": [
    "def check_coherence(witness: set, car: str):\n",
    "    counter = 0\n",
    "    for x in witness:\n",
    "        if x in car:\n",
    "            counter += 1\n",
    "\n",
    "    if counter == len(witness):\n",
    "        return True\n",
    "    return False\n",
    "\n",
    "\n",
    "\n",
    "m = int(input())\n",
    "list_witnesses = []\n",
    "for i in range(m):\n",
    "    number = set( input() )\n",
    "    list_witnesses.append( number )\n",
    "\n",
    "n = int(input())\n",
    "list_max = []\n",
    "max_witnesses = 0\n",
    "for i in range(n):\n",
    "    car_number = input()\n",
    "    counter = 0\n",
    "    for witness in list_witnesses:\n",
    "        if check_coherence(witness, car_number):\n",
    "            counter += 1\n",
    "    # print(car_number, counter)\n",
    "    if counter > max_witnesses:\n",
    "        list_max = []\n",
    "        list_max.append(car_number)\n",
    "        max_witnesses = counter\n",
    "    elif counter == max_witnesses:\n",
    "        list_max.append(car_number)\n",
    "\n",
    "for car_number in list_max:\n",
    "    print(car_number)\n",
    "\n",
    "\n"
   ]
  }
 ],
 "metadata": {
  "kernelspec": {
   "display_name": "base",
   "language": "python",
   "name": "python3"
  },
  "language_info": {
   "codemirror_mode": {
    "name": "ipython",
    "version": 3
   },
   "file_extension": ".py",
   "mimetype": "text/x-python",
   "name": "python",
   "nbconvert_exporter": "python",
   "pygments_lexer": "ipython3",
   "version": "3.11.5"
  }
 },
 "nbformat": 4,
 "nbformat_minor": 2
}
