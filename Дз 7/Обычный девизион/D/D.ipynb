{
 "cells": [
  {
   "cell_type": "code",
   "execution_count": 14,
   "metadata": {},
   "outputs": [
    {
     "name": "stdout",
     "output_type": "stream",
     "text": [
      "0\n",
      "5\n",
      "4\n",
      "3\n",
      "0\n"
     ]
    }
   ],
   "source": [
    "beg_segment_const = -1\n",
    "cat_const = 0\n",
    "end_segment_const = 1\n",
    "\n",
    "\n",
    "\n",
    "def count_cats():\n",
    "    # read file\n",
    "    file = open(\"input.txt\", \"r\")\n",
    "\n",
    "    n, m = map(int, file.readline().split())\n",
    "    events = []\n",
    "    a = list(map(int, file.readline().split()))\n",
    "    a.sort()\n",
    "    i = 0\n",
    "    for cat in a:\n",
    "        events.append( (cat, cat_const, i) )\n",
    "        i += 1\n",
    "    for i in range(m):\n",
    "        segment = tuple( map(int, file.readline().split()) )\n",
    "        events.append( (segment[0], beg_segment_const, i) )\n",
    "        events.append( (segment[1], end_segment_const, i) )\n",
    "    events.sort()\n",
    "\n",
    "    file.close()\n",
    "\n",
    "    # event handler\n",
    "    counters = [0]*m\n",
    "    last_cat_ind = -1\n",
    "    for event in events:\n",
    "        if event[1] == beg_segment_const:\n",
    "            counters[event[2]] = last_cat_ind\n",
    "        elif event[1] == cat_const:\n",
    "            last_cat_ind = event[2]\n",
    "        else:\n",
    "            counters[event[2]] = last_cat_ind - counters[event[2]]\n",
    "    \n",
    "    # print res\n",
    "    for counter in counters:\n",
    "        print(counter)\n",
    "\n",
    "\n",
    "count_cats()"
   ]
  }
 ],
 "metadata": {
  "kernelspec": {
   "display_name": "base",
   "language": "python",
   "name": "python3"
  },
  "language_info": {
   "codemirror_mode": {
    "name": "ipython",
    "version": 3
   },
   "file_extension": ".py",
   "mimetype": "text/x-python",
   "name": "python",
   "nbconvert_exporter": "python",
   "pygments_lexer": "ipython3",
   "version": "3.11.5"
  }
 },
 "nbformat": 4,
 "nbformat_minor": 2
}
