{
 "cells": [
  {
   "cell_type": "code",
   "execution_count": 38,
   "metadata": {},
   "outputs": [
    {
     "name": "stdout",
     "output_type": "stream",
     "text": [
      "30\n"
     ]
    }
   ],
   "source": [
    "beg_segment = -1\n",
    "end_segment = 1\n",
    "\n",
    "def find_colored():\n",
    "    # read\n",
    "    file = open(\"input.txt\", \"r\")\n",
    "\n",
    "    n = int(file.readline())\n",
    "    segments = [(0, 0)] * (2*n)\n",
    "    for i in range(n):\n",
    "        segment = map(int, file.readline().split())\n",
    "        segments[i*2] = (next(segment), beg_segment)\n",
    "        segments[i*2 + 1] = (next(segment), end_segment)\n",
    "    segments.sort()\n",
    "    file.close()\n",
    "\n",
    "    # actions\n",
    "    sm = 0\n",
    "    counter = 0\n",
    "    curr_beg = 0\n",
    "    flag_was_beg = False\n",
    "    for seg in segments:\n",
    "        if seg[1] == beg_segment:\n",
    "            counter += 1\n",
    "        else:\n",
    "            counter -= 1\n",
    "\n",
    "        if counter == 1 and flag_was_beg == False:\n",
    "            flag_was_beg = True\n",
    "            curr_beg = seg[0]\n",
    "        elif counter == 0:\n",
    "            flag_was_beg = False\n",
    "            sm += seg[0] - curr_beg\n",
    "\n",
    "    return sm\n",
    "\n",
    "\n",
    "\n",
    "print(find_colored())"
   ]
  }
 ],
 "metadata": {
  "kernelspec": {
   "display_name": "base",
   "language": "python",
   "name": "python3"
  },
  "language_info": {
   "codemirror_mode": {
    "name": "ipython",
    "version": 3
   },
   "file_extension": ".py",
   "mimetype": "text/x-python",
   "name": "python",
   "nbconvert_exporter": "python",
   "pygments_lexer": "ipython3",
   "version": "3.11.5"
  }
 },
 "nbformat": 4,
 "nbformat_minor": 2
}
