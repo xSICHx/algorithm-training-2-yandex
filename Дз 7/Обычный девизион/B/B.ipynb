{
 "cells": [
  {
   "cell_type": "code",
   "execution_count": 5,
   "metadata": {},
   "outputs": [
    {
     "name": "stdout",
     "output_type": "stream",
     "text": [
      "3\n"
     ]
    }
   ],
   "source": [
    "beg_segment = 1\n",
    "end_segment = -1\n",
    "\n",
    "def find_min_devices():\n",
    "    # read\n",
    "    file = open(\"input.txt\", \"r\")\n",
    "\n",
    "    n = int(file.readline())\n",
    "    segments = [(0, 0)] * (2*n)\n",
    "    for i in range(n):\n",
    "        segment = map(int, file.readline().split())\n",
    "        segments[i*2] = (next(segment), beg_segment)\n",
    "        segments[i*2 + 1] = (next(segment) + segments[i*2][0], end_segment)\n",
    "    segments.sort()\n",
    "    file.close()\n",
    "\n",
    "    # actions\n",
    "    counter = 0\n",
    "    mx_counter = 0\n",
    "    for seg in segments:\n",
    "        if seg[1] == beg_segment:\n",
    "            counter += 1\n",
    "        elif seg[1] == end_segment:\n",
    "            counter -= 1\n",
    "        \n",
    "        mx_counter = max(mx_counter, counter)\n",
    "\n",
    "    return mx_counter\n",
    "\n",
    "\n",
    "\n",
    "print(find_min_devices())"
   ]
  }
 ],
 "metadata": {
  "kernelspec": {
   "display_name": "base",
   "language": "python",
   "name": "python3"
  },
  "language_info": {
   "codemirror_mode": {
    "name": "ipython",
    "version": 3
   },
   "file_extension": ".py",
   "mimetype": "text/x-python",
   "name": "python",
   "nbconvert_exporter": "python",
   "pygments_lexer": "ipython3",
   "version": "3.11.5"
  }
 },
 "nbformat": 4,
 "nbformat_minor": 2
}
