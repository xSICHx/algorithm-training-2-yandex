{
 "cells": [
  {
   "cell_type": "code",
   "execution_count": 73,
   "metadata": {},
   "outputs": [
    {
     "name": "stdout",
     "output_type": "stream",
     "text": [
      "7\n"
     ]
    }
   ],
   "source": [
    "def count_trees(a, k, b, m, days):\n",
    "    return a*(days - days // k) + b*(days - days // m)\n",
    "\n",
    "\n",
    "def count_days():\n",
    "    with open(\"input.txt\", \"r\") as file:\n",
    "        a, k, b, M, x = map(int, file.readline().strip().split())\n",
    "\n",
    "    # init bounds\n",
    "    l = 1\n",
    "    r = 1\n",
    "    while count_trees(a, k, b, M, r) < x:\n",
    "        l = r\n",
    "        r *= 2\n",
    "    # print(l, r)\n",
    "    while l < r:\n",
    "        m = (l + r) // 2\n",
    "        if count_trees(a, k, b, M, m) >= x:\n",
    "            r = m\n",
    "        else:\n",
    "            l = m + 1\n",
    "    print(l)\n",
    "    \n",
    "\n",
    "\n",
    "\n",
    "count_days()\n",
    "    \n"
   ]
  },
  {
   "cell_type": "code",
   "execution_count": null,
   "metadata": {},
   "outputs": [],
   "source": []
  },
  {
   "cell_type": "code",
   "execution_count": null,
   "metadata": {},
   "outputs": [],
   "source": []
  }
 ],
 "metadata": {
  "kernelspec": {
   "display_name": "base",
   "language": "python",
   "name": "python3"
  },
  "language_info": {
   "codemirror_mode": {
    "name": "ipython",
    "version": 3
   },
   "file_extension": ".py",
   "mimetype": "text/x-python",
   "name": "python",
   "nbconvert_exporter": "python",
   "pygments_lexer": "ipython3",
   "version": "3.11.5"
  }
 },
 "nbformat": 4,
 "nbformat_minor": 2
}
