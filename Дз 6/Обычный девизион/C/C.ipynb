{
 "cells": [
  {
   "cell_type": "code",
   "execution_count": 42,
   "metadata": {},
   "outputs": [
    {
     "name": "stdout",
     "output_type": "stream",
     "text": [
      "1.000000082740371\n"
     ]
    }
   ],
   "source": [
    "def lbinsearch(l, r, check, params):\n",
    "    while (l < r):\n",
    "        m = (l + r) // 2\n",
    "        if (check(m, params)):\n",
    "            r = m\n",
    "        else:\n",
    "            l = m+1\n",
    "    return l\n",
    "\n",
    "\n",
    "def func(x, a, b, c, d):\n",
    "    return a*(x*x*x) + b*(x*x) + c*(x) + d\n",
    "\n",
    "\n",
    "with open(\"cubroot.in\", \"r\") as file:\n",
    "    a, b, c, d = map(int, file.readline().split())\n",
    "    def f(x):\n",
    "        return func(x, a, b, c, d)\n",
    "\n",
    "\n",
    "eps = 1e-10\n",
    "l, r = -1e10, 1e10\n",
    "m = 0\n",
    "fl, fr, fm = f(l), f(r), f(m)\n",
    "while abs(r-l) > eps:\n",
    "    m = (l + r) / 2\n",
    "    fm = f(m)\n",
    "    if fm == 0:\n",
    "        break\n",
    "    elif fl*fm < 0:\n",
    "        fr = fm\n",
    "        r = m\n",
    "    else:\n",
    "        fl = fm\n",
    "        l = m\n",
    "print(m)\n",
    "\n",
    "\n",
    "\n"
   ]
  }
 ],
 "metadata": {
  "kernelspec": {
   "display_name": "base",
   "language": "python",
   "name": "python3"
  },
  "language_info": {
   "codemirror_mode": {
    "name": "ipython",
    "version": 3
   },
   "file_extension": ".py",
   "mimetype": "text/x-python",
   "name": "python",
   "nbconvert_exporter": "python",
   "pygments_lexer": "ipython3",
   "version": "3.11.5"
  }
 },
 "nbformat": 4,
 "nbformat_minor": 2
}
