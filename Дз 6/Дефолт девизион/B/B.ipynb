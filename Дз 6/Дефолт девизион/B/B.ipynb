{
 "cells": [
  {
   "cell_type": "code",
   "execution_count": 17,
   "metadata": {},
   "outputs": [
    {
     "name": "stdout",
     "output_type": "stream",
     "text": [
      "0 0\n",
      "9 9\n",
      "6 6\n",
      "0 0\n",
      "0 0\n",
      "9 9\n",
      "2 5\n",
      "0 0\n",
      "9 9\n",
      "0 0\n"
     ]
    }
   ],
   "source": [
    "def input_vals():\n",
    "    with open(\"input.txt\", \"r\") as f:\n",
    "        f.readline()\n",
    "        arr = list( map(int, f.readline().strip().split()) )\n",
    "        f.readline()\n",
    "        nums = list( map(int, f.readline().strip().split()) )\n",
    "    return (arr, nums)\n",
    "\n",
    "\n",
    "def lbinsearch(l, r, check, params):\n",
    "    while (l < r):\n",
    "        m = (l + r) // 2\n",
    "        if (check(m, params)):\n",
    "            r = m\n",
    "        else:\n",
    "            l = m+1\n",
    "    return l\n",
    "\n",
    "def first_more_equal_check(index, params):\n",
    "    x = params[0]\n",
    "    nums = params[1]\n",
    "    return nums[index] >= x\n",
    "\n",
    "def first_more_check(index, params):\n",
    "    x = params[0]\n",
    "    nums = params[1]\n",
    "    return nums[index] > x\n",
    "\n",
    "\n",
    "def indexes_number(x, arr):\n",
    "    l = lbinsearch(0, len(arr), first_more_equal_check, (x, arr))\n",
    "    r = lbinsearch(0, len(arr), first_more_check, (x, arr))\n",
    "    if len(arr) == l or arr[l] != x:\n",
    "        print(0, 0)\n",
    "    else:\n",
    "        print(l+1, r)\n",
    "\n",
    "\n",
    "def indexes_numbers():\n",
    "    arr, nums = input_vals()\n",
    "    for x in nums:\n",
    "        indexes_number(x, arr)\n",
    "\n",
    "\n",
    "\n",
    "indexes_numbers()\n"
   ]
  }
 ],
 "metadata": {
  "kernelspec": {
   "display_name": "base",
   "language": "python",
   "name": "python3"
  },
  "language_info": {
   "codemirror_mode": {
    "name": "ipython",
    "version": 3
   },
   "file_extension": ".py",
   "mimetype": "text/x-python",
   "name": "python",
   "nbconvert_exporter": "python",
   "pygments_lexer": "ipython3",
   "version": "3.11.5"
  }
 },
 "nbformat": 4,
 "nbformat_minor": 2
}
