{
 "cells": [
  {
   "cell_type": "code",
   "execution_count": 130,
   "metadata": {},
   "outputs": [
    {
     "name": "stdout",
     "output_type": "stream",
     "text": [
      "0\n"
     ]
    }
   ],
   "source": [
    "\n",
    "def check(nums: list, k, l):\n",
    "    curr_k = 1\n",
    "    beg_curr_segment = nums[0]\n",
    "    # print()\n",
    "    # print(l)\n",
    "    for x in nums[1:]:\n",
    "        if (x - beg_curr_segment) > l:\n",
    "            # print(beg_curr_segment, beg_curr_segment + l)\n",
    "            curr_k += 1\n",
    "            if curr_k > k:\n",
    "                return False\n",
    "            beg_curr_segment = x\n",
    "    # print(beg_curr_segment, beg_curr_segment+l)\n",
    "    # print(curr_k)\n",
    "    # print()\n",
    "    return True\n",
    "    \n",
    "\n",
    "        \n",
    "        \n",
    "\n",
    "\n",
    "\n",
    "# O(nlog(n))\n",
    "def find_():\n",
    "    with open(\"input.txt\", \"r\") as file:\n",
    "        n, k = map(int, file.readline().strip().split())\n",
    "        nums = sorted(list( map(float, file.readline().strip().split()) ))\n",
    "    # print(nums)\n",
    "    l = 0\n",
    "    r = int(nums[-1] - nums[0]) + 10\n",
    "    while l < r:\n",
    "        m = (l + r) // 2\n",
    "        if check(nums, k, m):\n",
    "            r = m\n",
    "        else:\n",
    "            l = m + 1\n",
    "    print(int(l))\n",
    "    \n",
    "\n",
    "\n",
    "\n",
    "find_()"
   ]
  },
  {
   "cell_type": "code",
   "execution_count": null,
   "metadata": {},
   "outputs": [],
   "source": []
  }
 ],
 "metadata": {
  "kernelspec": {
   "display_name": "base",
   "language": "python",
   "name": "python3"
  },
  "language_info": {
   "codemirror_mode": {
    "name": "ipython",
    "version": 3
   },
   "file_extension": ".py",
   "mimetype": "text/x-python",
   "name": "python",
   "nbconvert_exporter": "python",
   "pygments_lexer": "ipython3",
   "version": "3.11.5"
  }
 },
 "nbformat": 4,
 "nbformat_minor": 2
}
