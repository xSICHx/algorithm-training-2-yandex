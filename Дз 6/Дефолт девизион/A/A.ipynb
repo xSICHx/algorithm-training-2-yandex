{
 "cells": [
  {
   "cell_type": "code",
   "execution_count": 68,
   "metadata": {},
   "outputs": [
    {
     "name": "stdout",
     "output_type": "stream",
     "text": [
      "5\n",
      "2\n",
      "2\n",
      "0\n"
     ]
    }
   ],
   "source": [
    "def count_from_l_to_r(nums: list):\n",
    "    pass\n",
    "\n",
    "\n",
    "def read_and_sort_list():\n",
    "    with open(\"input.txt\", \"r\") as f:\n",
    "        N = int(f.readline())\n",
    "        nums = list( map(int, f.readline().strip().split()) )\n",
    "    return sorted(nums)\n",
    "\n",
    "\n",
    "def lbinsearch(l, r, check, params):\n",
    "    while (l < r):\n",
    "        m = (l + r) // 2\n",
    "        if (check(m, params)):\n",
    "            r = m\n",
    "        else:\n",
    "            l = m+1\n",
    "    return l\n",
    "\n",
    "def first_more_equal_check(index, params):\n",
    "    x = params[0]\n",
    "    nums = params[1]\n",
    "    return nums[index] >= x\n",
    "\n",
    "def first_more_check(index, params):\n",
    "    x = params[0]\n",
    "    nums = params[1]\n",
    "    return nums[index] > x\n",
    "\n",
    "\n",
    "def f():\n",
    "    with open(\"input.txt\", \"r\") as file:\n",
    "        N = int(file.readline())\n",
    "        nums = list( map(int, file.readline().strip().split()) )\n",
    "        nums = sorted(nums)\n",
    "    \n",
    "        N = int(file.readline())\n",
    "        for i in range(N):\n",
    "            L, R = map(int, file.readline().strip().split())\n",
    "            first_l = lbinsearch(0, len(nums), first_more_equal_check, (L, nums))\n",
    "            last_r = lbinsearch(0, len(nums), first_more_check, (R, nums))\n",
    "            print(last_r - first_l, end=\" \")\n",
    "\n",
    "f()\n",
    "# print(read_and_sort_list())\n"
   ]
  }
 ],
 "metadata": {
  "kernelspec": {
   "display_name": "base",
   "language": "python",
   "name": "python3"
  },
  "language_info": {
   "codemirror_mode": {
    "name": "ipython",
    "version": 3
   },
   "file_extension": ".py",
   "mimetype": "text/x-python",
   "name": "python",
   "nbconvert_exporter": "python",
   "pygments_lexer": "ipython3",
   "version": "3.11.5"
  }
 },
 "nbformat": 4,
 "nbformat_minor": 2
}
