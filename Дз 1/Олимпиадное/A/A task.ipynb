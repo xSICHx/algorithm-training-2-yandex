{
 "cells": [
  {
   "cell_type": "markdown",
   "metadata": {},
   "source": [
    "$\\frac{a x + b}{c x + d} = 0$"
   ]
  },
  {
   "cell_type": "code",
   "execution_count": 6,
   "metadata": {},
   "outputs": [
    {
     "ename": "TabError",
     "evalue": "inconsistent use of tabs and spaces in indentation (3784940318.py, line 31)",
     "output_type": "error",
     "traceback": [
      "\u001b[1;36m  Cell \u001b[1;32mIn[6], line 31\u001b[1;36m\u001b[0m\n\u001b[1;33m    elif a == 0 or b * c == a * d:\u001b[0m\n\u001b[1;37m    ^\u001b[0m\n\u001b[1;31mTabError\u001b[0m\u001b[1;31m:\u001b[0m inconsistent use of tabs and spaces in indentation\n"
     ]
    },
    {
     "ename": "",
     "evalue": "",
     "output_type": "error",
     "traceback": [
      "\u001b[1;31mThe Kernel crashed while executing code in the current cell or a previous cell. \n",
      "\u001b[1;31mPlease review the code in the cell(s) to identify a possible cause of the failure. \n",
      "\u001b[1;31mClick <a href='https://aka.ms/vscodeJupyterKernelCrash'>here</a> for more info. \n",
      "\u001b[1;31mView Jupyter <a href='command:jupyter.viewOutput'>log</a> for further details."
     ]
    }
   ],
   "source": [
    "with open(\"read.txt\", \"r\") as file:\n",
    "    a, b, c, d = [int(line.strip()) for line in file]\n",
    "\n",
    "def solve_equation(a, b, c, d):\n",
    "    if a == 0 and b == 0: # если числитель дроби равен нулю\n",
    "        return('INF')\n",
    "    elif a == 0:\n",
    "        return('NO')\n",
    "    else:\n",
    "        x = -b/a\n",
    "        if str(x)[-2:] != '.0': # если x не целое\n",
    "            return('NO')\n",
    "        else:\n",
    "            if c*b != a*d: # если при x=-b/a знаменатель не обращается в ноль\n",
    "                return(int(x))\n",
    "            else:\n",
    "                return('NO')\n",
    "    # # NO\n",
    "    # # # 1) -b/a == -d/c\n",
    "    # # 2) c == 0, d == 0\n",
    "    # # 3) a == 0, b != 0\n",
    "    # cond_no1 = c == 0 and d == 0\n",
    "    # cond_no2 = -b*c == -d*a\n",
    "    # cond_no3 = a== 0 and b != 0\n",
    "    # cond_no4 = d == 0 and b == 0\n",
    "    # cond_no5 = a != 0 and a-c != 0 and (d-b)/(a-c) == -b/a\n",
    "\n",
    "    # # INF\n",
    "    # # a == 0 and b == 0 and !(c == d == 0)\n",
    "    # cond_inf1 = a == 0 and b == 0\n",
    "\n",
    "\n",
    "    # if (cond_no1 or cond_no2 or cond_no3 or cond_no4 or cond_no5):\n",
    "    #     return \"NO\"\n",
    "    # elif (cond_inf1):\n",
    "    #     return \"INF\"\n",
    "    # else:\n",
    "    #     if (b%a == 0):\n",
    "    #         return -b//a\n",
    "    #     else:\n",
    "    #         return \"NO\"\n"
   ]
  },
  {
   "cell_type": "code",
   "execution_count": 5,
   "metadata": {},
   "outputs": [
    {
     "data": {
      "text/plain": [
       "True"
      ]
     },
     "execution_count": 5,
     "metadata": {},
     "output_type": "execute_result"
    }
   ],
   "source": []
  }
 ],
 "metadata": {
  "kernelspec": {
   "display_name": "base",
   "language": "python",
   "name": "python3"
  },
  "language_info": {
   "codemirror_mode": {
    "name": "ipython",
    "version": 3
   },
   "file_extension": ".py",
   "mimetype": "text/x-python",
   "name": "python",
   "nbconvert_exporter": "python",
   "pygments_lexer": "ipython3",
   "version": "3.11.5"
  }
 },
 "nbformat": 4,
 "nbformat_minor": 2
}
