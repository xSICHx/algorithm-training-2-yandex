{
 "cells": [
  {
   "cell_type": "code",
   "execution_count": 1,
   "metadata": {},
   "outputs": [
    {
     "name": "stdout",
     "output_type": "stream",
     "text": [
      "NO\n"
     ]
    }
   ],
   "source": [
    "with open(\"read.txt\", \"r\") as file:\n",
    "    grid = [list(map(int, line.split())) for line in file]\n",
    "\n",
    "\n",
    "def count_player_wins(player_number, grid):\n",
    "    #row win\n",
    "    counter = 0\n",
    "    for i in range(3):\n",
    "        if grid[i][0] == grid[i][1] == grid[i][2] == player_number:\n",
    "            counter += 1\n",
    "    \n",
    "    #col win\n",
    "    for i in range(3):\n",
    "        if grid[0][i] == grid[1][i] == grid[2][i] == player_number:\n",
    "            counter += 1\n",
    "    \n",
    "    #diag win\n",
    "    if grid[0][0] == grid[1][1] == grid[2][2] == player_number:\n",
    "        counter += 1\n",
    "    if grid[0][2] == grid[1][1] == grid[2][0] == player_number:\n",
    "        counter += 1\n",
    "\n",
    "    return counter\n",
    "\n",
    "\n",
    "def count_player_steps(player_number, grid):\n",
    "    counter = 0\n",
    "    for lst in grid:\n",
    "        for x in lst:\n",
    "            if x == player_number:\n",
    "                counter += 1\n",
    "    return counter\n",
    "\n",
    "def check_game(grid):\n",
    "    steps1 = count_player_steps(1, grid)\n",
    "    steps2 = count_player_steps(2, grid)\n",
    "    if steps2 > steps1 or steps1-steps2 > 1:\n",
    "        return \"NO\"\n",
    "    \n",
    "    wins1 = count_player_wins(1, grid)\n",
    "    wins2 = count_player_wins(2, grid)\n",
    "    if wins1 > 0 and wins2 > 0:\n",
    "        return \"NO\"\n",
    "    \n",
    "    # special case 1\n",
    "    if wins1 > 0 and steps1 == steps2:\n",
    "        return \"NO\"\n",
    "    \n",
    "    # special case 2\n",
    "    if wins2 > 0 and steps1 > steps2:\n",
    "        return \"NO\"\n",
    "\n",
    "    return \"YES\"\n",
    "\n",
    "\n",
    "print(check_game(grid))"
   ]
  },
  {
   "cell_type": "code",
   "execution_count": 11,
   "metadata": {},
   "outputs": [
    {
     "data": {
      "text/plain": [
       "True"
      ]
     },
     "execution_count": 11,
     "metadata": {},
     "output_type": "execute_result"
    }
   ],
   "source": [
    "1 == 1 == 1 == 1"
   ]
  }
 ],
 "metadata": {
  "kernelspec": {
   "display_name": "base",
   "language": "python",
   "name": "python3"
  },
  "language_info": {
   "codemirror_mode": {
    "name": "ipython",
    "version": 3
   },
   "file_extension": ".py",
   "mimetype": "text/x-python",
   "name": "python",
   "nbconvert_exporter": "python",
   "pygments_lexer": "ipython3",
   "version": "3.11.5"
  }
 },
 "nbformat": 4,
 "nbformat_minor": 2
}
