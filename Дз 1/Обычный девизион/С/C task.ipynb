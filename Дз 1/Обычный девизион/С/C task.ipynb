{
 "cells": [
  {
   "cell_type": "code",
   "execution_count": 15,
   "metadata": {},
   "outputs": [
    {
     "name": "stdout",
     "output_type": "stream",
     "text": [
      "0\n"
     ]
    }
   ],
   "source": [
    "import time\n",
    "\n",
    "# Ввод даты\n",
    "year = 2023\n",
    "month = 12\n",
    "day = 6\n",
    "\n",
    "# Создаем объект даты\n",
    "errs = 0\n",
    "try:\n",
    "    date = datetime.datetime(year, month, day)\n",
    "except Exception as e:\n",
    "    errs += 1\n",
    "\n",
    "print(errs)\n"
   ]
  },
  {
   "cell_type": "code",
   "execution_count": 21,
   "metadata": {},
   "outputs": [
    {
     "name": "stdout",
     "output_type": "stream",
     "text": [
      "1\n"
     ]
    }
   ],
   "source": [
    "import datetime\n",
    "\n",
    "def check_date(year, month, day):\n",
    "    err = 0\n",
    "    try:\n",
    "        date = datetime.datetime(year, month, day)\n",
    "    except Exception as e:\n",
    "        err += 1\n",
    "    return err\n",
    "\n",
    "\n",
    "def check_dates(x, y, z):\n",
    "    errs = 0\n",
    "    errs += check_date(x, y, z)\n",
    "    errs += check_date(x, z, y)\n",
    "    errs += check_date(y, x, z)\n",
    "    errs += check_date(y, z, x)\n",
    "    errs += check_date(z, y, x)\n",
    "    errs += check_date(z, x, y)\n",
    "    if (errs <= 4):\n",
    "        return 0\n",
    "    return 1\n",
    "\n",
    "\n",
    "with open(\"read.txt\", \"r\") as f:\n",
    "    x, y, z = map(int, f.readline().split())\n",
    "\n",
    "print(check_dates(x, y, z))"
   ]
  },
  {
   "cell_type": "code",
   "execution_count": 22,
   "metadata": {},
   "outputs": [
    {
     "ename": "ValueError",
     "evalue": "not enough values to unpack (expected 3, got 0)",
     "output_type": "error",
     "traceback": [
      "\u001b[1;31m---------------------------------------------------------------------------\u001b[0m",
      "\u001b[1;31mValueError\u001b[0m                                Traceback (most recent call last)",
      "Cell \u001b[1;32mIn[22], line 26\u001b[0m\n\u001b[0;32m     21\u001b[0m         \u001b[38;5;28;01mreturn\u001b[39;00m \u001b[38;5;241m0\u001b[39m\n\u001b[0;32m     22\u001b[0m     \u001b[38;5;28;01mreturn\u001b[39;00m \u001b[38;5;241m1\u001b[39m\n\u001b[1;32m---> 26\u001b[0m x, y, z \u001b[38;5;241m=\u001b[39m \u001b[38;5;28mmap\u001b[39m(\u001b[38;5;28mint\u001b[39m, \u001b[38;5;28minput\u001b[39m()\u001b[38;5;241m.\u001b[39msplit())\n\u001b[0;32m     28\u001b[0m \u001b[38;5;28mprint\u001b[39m(check_dates(x, y, z))\n",
      "\u001b[1;31mValueError\u001b[0m: not enough values to unpack (expected 3, got 0)"
     ]
    }
   ],
   "source": [
    "import datetime\n",
    "\n",
    "def check_date(year, month, day):\n",
    "    err = 0\n",
    "    try:\n",
    "        date = datetime.datetime(year, month, day)\n",
    "    except Exception as e:\n",
    "        err += 1\n",
    "    return err\n",
    "\n",
    "\n",
    "def check_dates(x, y, z):\n",
    "    errs = 0\n",
    "    errs += check_date(x, y, z)\n",
    "    errs += check_date(x, z, y)\n",
    "    errs += check_date(y, x, z)\n",
    "    errs += check_date(y, z, x)\n",
    "    errs += check_date(z, y, x)\n",
    "    errs += check_date(z, x, y)\n",
    "    if (errs <= 4):\n",
    "        return 0\n",
    "    return 1\n",
    "\n",
    "\n",
    "\n",
    "x, y, z = map(int, input().split())\n",
    "\n",
    "print(check_dates(x, y, z))"
   ]
  }
 ],
 "metadata": {
  "kernelspec": {
   "display_name": "base",
   "language": "python",
   "name": "python3"
  },
  "language_info": {
   "codemirror_mode": {
    "name": "ipython",
    "version": 3
   },
   "file_extension": ".py",
   "mimetype": "text/x-python",
   "name": "python",
   "nbconvert_exporter": "python",
   "pygments_lexer": "ipython3",
   "version": "3.11.5"
  }
 },
 "nbformat": 4,
 "nbformat_minor": 2
}
