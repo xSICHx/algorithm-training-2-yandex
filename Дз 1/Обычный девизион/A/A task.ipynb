{
 "cells": [
  {
   "cell_type": "code",
   "execution_count": 5,
   "metadata": {},
   "outputs": [
    {
     "name": "stdout",
     "output_type": "stream",
     "text": [
      "-1 0 1\n"
     ]
    }
   ],
   "source": [
    "with open(\"read.txt\", \"r\") as file:\n",
    "    r, i, c = [int(line.strip()) for line in file]\n",
    "\n",
    "v = 0\n",
    "if i == 0:\n",
    "    if r == 0:\n",
    "        v = c\n",
    "    else:\n",
    "        v = 3\n",
    "elif i == 1:\n",
    "    v = c\n",
    "elif i == 4:\n",
    "    v = 3 if r != 0 else 4\n",
    "elif i == 6:\n",
    "    v = 0\n",
    "elif i == 7:\n",
    "    v = 1\n",
    "else:\n",
    "    v = i\n",
    "\n",
    "print(v)"
   ]
  },
  {
   "cell_type": "code",
   "execution_count": 8,
   "metadata": {},
   "outputs": [
    {
     "name": "stdout",
     "output_type": "stream",
     "text": [
      "4\n"
     ]
    }
   ],
   "source": []
  }
 ],
 "metadata": {
  "kernelspec": {
   "display_name": "base",
   "language": "python",
   "name": "python3"
  },
  "language_info": {
   "codemirror_mode": {
    "name": "ipython",
    "version": 3
   },
   "file_extension": ".py",
   "mimetype": "text/x-python",
   "name": "python",
   "nbconvert_exporter": "python",
   "pygments_lexer": "ipython3",
   "version": "3.11.5"
  }
 },
 "nbformat": 4,
 "nbformat_minor": 2
}
