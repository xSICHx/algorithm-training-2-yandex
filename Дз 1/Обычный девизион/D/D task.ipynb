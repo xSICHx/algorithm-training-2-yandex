{
 "cells": [
  {
   "cell_type": "code",
   "execution_count": 18,
   "metadata": {},
   "outputs": [],
   "source": [
    "def method_E(file_name):\n",
    "    with open(file_name, \"r\") as file:\n",
    "        N = int(file.readline())\n",
    "        nums = list( map(int, file.readline().split()) )\n",
    "\n",
    "    def score(x, nums):\n",
    "        res = 0\n",
    "        for y in nums:\n",
    "            res += abs(x - y)\n",
    "        return res\n",
    "\n",
    "    E = 0\n",
    "    for num in nums:\n",
    "        E += num\n",
    "    E = int(E/N)\n",
    "    l, m, r = E-1, E, E+1\n",
    "    # print(l,m,r)\n",
    "\n",
    "    s1, s2, s3 = score(l, nums), score(m, nums), score(r, nums)\n",
    "    # print(s1, s2, s3)\n",
    "\n",
    "    if s1 == min(s1, s2, s3):\n",
    "        print(l)\n",
    "    elif s2 == min(s1, s2, s3):\n",
    "        print(m)\n",
    "    else:\n",
    "        print(r)"
   ]
  },
  {
   "cell_type": "code",
   "execution_count": 10,
   "metadata": {},
   "outputs": [],
   "source": [
    "def score(x, nums):\n",
    "    res = 0\n",
    "    for y in nums:\n",
    "        res += abs(x - y)\n",
    "    return res"
   ]
  },
  {
   "cell_type": "code",
   "execution_count": 13,
   "metadata": {},
   "outputs": [],
   "source": [
    "def method_true(file_name):\n",
    "    with open(file_name, \"r\") as file:\n",
    "        N = int(file.readline())\n",
    "        nums = list( map(int, file.readline().split()) )\n",
    "\n",
    "    extr_score = score(nums[0], nums)\n",
    "    extr_elem = nums[0]\n",
    "    for x in range(nums[0], nums[len(nums)-1]):\n",
    "        curr_score = score(x, nums)\n",
    "        if curr_score <= extr_score:\n",
    "            extr_score = curr_score \n",
    "            extr_elem = x\n",
    "\n",
    "    return extr_elem\n"
   ]
  },
  {
   "cell_type": "code",
   "execution_count": 14,
   "metadata": {},
   "outputs": [
    {
     "name": "stdout",
     "output_type": "stream",
     "text": [
      "3\n"
     ]
    }
   ],
   "source": [
    "print(method_true(\"read.txt\"))"
   ]
  },
  {
   "cell_type": "code",
   "execution_count": 139,
   "metadata": {},
   "outputs": [],
   "source": [
    "import torch\n",
    "\n",
    "def generate_test(file_name, N = None):\n",
    "\n",
    "    # Задание диапазона\n",
    "    low = 1\n",
    "    high = 100001\n",
    "    num_elements = 10  # Количество уникальных чисел\n",
    "\n",
    "    # Генерация одного случайного числа в диапазоне [low, high)\n",
    "    single_random_number = torch.randint(low, high, (1,)).item()\n",
    "    num_elements = single_random_number\n",
    "    if N != None:\n",
    "        num_elements = N\n",
    "\n",
    "    # Генерация уникальных случайных чисел в диапазоне [low, high)\n",
    "    random_numbers = torch.randperm(high - low)[:num_elements] + low\n",
    "    random_numbers = torch.sort(random_numbers).values\n",
    "\n",
    "    # Запись в файл\n",
    "    with open(file_name, 'w') as f:\n",
    "        # Запись одного случайного числа\n",
    "        f.write(f\"{N}\\n\")\n",
    "        \n",
    "        for number in random_numbers:\n",
    "            f.write(f\"{number.item()} \")\n"
   ]
  },
  {
   "cell_type": "code",
   "execution_count": 55,
   "metadata": {},
   "outputs": [
    {
     "name": "stdout",
     "output_type": "stream",
     "text": [
      "tensor([  265,  9762,  9848, 33534, 35278, 36499, 50497, 51692, 58026, 60349,\n",
      "        60380, 67706, 67729, 72980, 75578, 78627, 80029, 81303, 88437, 94407])\n"
     ]
    }
   ],
   "source": [
    "generate_test(\"test1.txt\", 20)\n"
   ]
  },
  {
   "cell_type": "code",
   "execution_count": 56,
   "metadata": {},
   "outputs": [
    {
     "name": "stdout",
     "output_type": "stream",
     "text": [
      "60380\n",
      "55647\n",
      "None\n"
     ]
    }
   ],
   "source": [
    "print(method_true(\"test1.txt\"))\n",
    "print(method_E(\"test1.txt\"))"
   ]
  },
  {
   "cell_type": "code",
   "execution_count": 134,
   "metadata": {},
   "outputs": [],
   "source": [
    "def method_good(file_name):\n",
    "    with open(file_name, \"r\") as file:\n",
    "        N = int(file.readline())\n",
    "        nums = list( map(int, file.readline().split()) )\n",
    "\n",
    "    extr_score = score(nums[0], nums)\n",
    "    extr_el = nums[0]\n",
    "    prev_score = extr_score\n",
    "    prev_el = extr_el\n",
    "    extr_i = 0\n",
    "    for i in range(1, len(nums)):\n",
    "        curr_el = nums[i]\n",
    "        diff = curr_el - prev_el\n",
    "        prev_score = prev_score +i*diff - (N- i)*diff\n",
    "        if prev_score < extr_score:\n",
    "            extr_score = prev_score\n",
    "            extr_el = curr_el\n",
    "            extr_i = i\n",
    "        # print(score(curr_el, nums)-prev_score)\n",
    "        prev_el = curr_el\n",
    "\n",
    "    # print(nums[extr_i+1])\n",
    "    # print(len(nums))\n",
    "    if N % 2 == 0:\n",
    "        return nums[extr_i+1]\n",
    "    else:\n",
    "        return nums[extr_i]\n",
    "\n",
    "    "
   ]
  },
  {
   "cell_type": "code",
   "execution_count": 144,
   "metadata": {},
   "outputs": [
    {
     "name": "stdout",
     "output_type": "stream",
     "text": [
      "1\n",
      "1\n"
     ]
    }
   ],
   "source": [
    "file_name = \"read.txt\"\n",
    "print(method_true(file_name))\n",
    "print(method_good(file_name))"
   ]
  },
  {
   "cell_type": "code",
   "execution_count": 140,
   "metadata": {},
   "outputs": [
    {
     "name": "stdout",
     "output_type": "stream",
     "text": [
      "True\n",
      "True\n",
      "True\n",
      "True\n",
      "True\n",
      "True\n",
      "True\n",
      "True\n",
      "True\n",
      "True\n",
      "True\n",
      "True\n",
      "True\n",
      "True\n",
      "True\n",
      "True\n",
      "True\n",
      "True\n",
      "True\n",
      "True\n",
      "True\n",
      "True\n",
      "True\n",
      "True\n",
      "True\n",
      "True\n",
      "True\n",
      "True\n",
      "True\n",
      "True\n",
      "True\n",
      "True\n",
      "True\n",
      "True\n",
      "True\n",
      "True\n",
      "True\n",
      "True\n",
      "True\n",
      "True\n",
      "True\n",
      "True\n",
      "True\n",
      "True\n",
      "True\n",
      "True\n",
      "True\n",
      "True\n",
      "True\n",
      "True\n",
      "True\n",
      "True\n",
      "True\n",
      "True\n",
      "True\n",
      "True\n",
      "True\n",
      "True\n",
      "True\n",
      "True\n",
      "True\n",
      "True\n",
      "True\n",
      "True\n",
      "True\n",
      "True\n",
      "True\n",
      "True\n",
      "True\n",
      "True\n",
      "True\n",
      "True\n",
      "True\n",
      "True\n",
      "True\n",
      "True\n",
      "True\n",
      "True\n",
      "True\n",
      "True\n",
      "True\n",
      "True\n",
      "True\n",
      "True\n",
      "True\n",
      "True\n",
      "True\n",
      "True\n",
      "True\n",
      "True\n"
     ]
    }
   ],
   "source": [
    "for i in range(10, 100):\n",
    "    generate_test(\"test2.txt\", i)\n",
    "    res_true = method_true(\"test2.txt\")\n",
    "    res_good = method_good(\"test2.txt\")\n",
    "    print(int(res_true) == int(res_good))"
   ]
  }
 ],
 "metadata": {
  "kernelspec": {
   "display_name": "base",
   "language": "python",
   "name": "python3"
  },
  "language_info": {
   "codemirror_mode": {
    "name": "ipython",
    "version": 3
   },
   "file_extension": ".py",
   "mimetype": "text/x-python",
   "name": "python",
   "nbconvert_exporter": "python",
   "pygments_lexer": "ipython3",
   "version": "3.11.5"
  }
 },
 "nbformat": 4,
 "nbformat_minor": 2
}
