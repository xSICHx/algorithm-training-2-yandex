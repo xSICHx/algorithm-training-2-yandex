{
 "cells": [
  {
   "cell_type": "code",
   "execution_count": 4,
   "metadata": {},
   "outputs": [
    {
     "name": "stdout",
     "output_type": "stream",
     "text": [
      "0\n",
      "1\n"
     ]
    }
   ],
   "source": [
    "def dist_square(x1, y1, x2, y2):\n",
    "    return (x1 - x2)**2 + (y1 - y2)**2\n",
    "\n",
    "\n",
    "d = float(input())\n",
    "x, y = map(int, input().split())\n",
    "\n",
    "\n",
    "\n",
    "# y = -x + d\n",
    "# y + x <= d\n",
    "if x >= 0 and y >= 0 and y + x <= d:\n",
    "    print(0)\n",
    "else:\n",
    "    dist_A, dist_B, dist_C =  dist_square(0, 0, x, y), dist_square(d, 0, x, y), dist_square(0, d, x, y)\n",
    "    dist_min = min(dist_A, dist_B, dist_C)\n",
    "    if dist_A == dist_min:\n",
    "        print(1)\n",
    "    elif dist_B == dist_min:\n",
    "        print(2)\n",
    "    else:\n",
    "        print(3)\n"
   ]
  }
 ],
 "metadata": {
  "kernelspec": {
   "display_name": "base",
   "language": "python",
   "name": "python3"
  },
  "language_info": {
   "codemirror_mode": {
    "name": "ipython",
    "version": 3
   },
   "file_extension": ".py",
   "mimetype": "text/x-python",
   "name": "python",
   "nbconvert_exporter": "python",
   "pygments_lexer": "ipython3",
   "version": "3.11.5"
  }
 },
 "nbformat": 4,
 "nbformat_minor": 2
}
